{
  "cells": [
    {
      "cell_type": "markdown",
      "id": "ofjnia5JKn3V",
      "metadata": {
        "id": "ofjnia5JKn3V"
      },
      "source": [
        "## **Insurance Claim Predictions with Backpropagation Neural Networks**\n",
        "### By: Gabrielle Felicia Ariyanto"
      ]
    },
    {
      "cell_type": "markdown",
      "id": "65f3f985",
      "metadata": {
        "id": "65f3f985"
      },
      "source": [
        "### **Exploratory Data Analysis & Data Pre-Processing**"
      ]
    },
    {
      "cell_type": "code",
      "execution_count": 2,
      "id": "4d4e75af",
      "metadata": {
        "id": "4d4e75af"
      },
      "outputs": [],
      "source": [
        "# import all required libraries\n",
        "%matplotlib inline\n",
        "import matplotlib.pyplot as plt\n",
        "import numpy as np\n",
        "import pandas as pd\n",
        "import seaborn as sns"
      ]
    },
    {
      "cell_type": "code",
      "execution_count": 4,
      "id": "1e4769df",
      "metadata": {
        "id": "1e4769df"
      },
      "outputs": [],
      "source": [
        "# store the insurance data into a variable named data\n",
        "data = pd.read_csv('insurance.csv')"
      ]
    },
    {
      "cell_type": "code",
      "execution_count": 5,
      "id": "f6fb3b1c",
      "metadata": {
        "colab": {
          "base_uri": "https://localhost:8080/",
          "height": 423
        },
        "id": "f6fb3b1c",
        "outputId": "bd7bfed4-aa3e-4ff3-e5a1-e05d64519d77"
      },
      "outputs": [
        {
          "output_type": "execute_result",
          "data": {
            "text/plain": [
              "      age  sex     bmi  steps  children  smoker  region      charges  \\\n",
              "0      19    0  27.900   3009         0       1       3  16884.92400   \n",
              "1      18    1  33.770   3008         1       0       2   1725.55230   \n",
              "2      28    1  33.000   3009         3       0       2   4449.46200   \n",
              "3      33    1  22.705  10009         0       0       1  21984.47061   \n",
              "4      32    1  28.880   8010         0       0       1   3866.85520   \n",
              "...   ...  ...     ...    ...       ...     ...     ...          ...   \n",
              "1333   50    1  30.970   4008         3       0       1  10600.54830   \n",
              "1334   18    0  31.920   3003         0       0       0   2205.98080   \n",
              "1335   18    0  36.850   3008         0       0       2   1629.83350   \n",
              "1336   21    0  25.800   8009         0       0       3   2007.94500   \n",
              "1337   61    0  29.070   8008         0       1       1  29141.36030   \n",
              "\n",
              "      insuranceclaim  \n",
              "0                  1  \n",
              "1                  1  \n",
              "2                  0  \n",
              "3                  0  \n",
              "4                  1  \n",
              "...              ...  \n",
              "1333               0  \n",
              "1334               1  \n",
              "1335               1  \n",
              "1336               0  \n",
              "1337               1  \n",
              "\n",
              "[1338 rows x 9 columns]"
            ],
            "text/html": [
              "\n",
              "  <div id=\"df-eb4c0e9b-cb1f-4841-95bb-b02fc6dfe003\" class=\"colab-df-container\">\n",
              "    <div>\n",
              "<style scoped>\n",
              "    .dataframe tbody tr th:only-of-type {\n",
              "        vertical-align: middle;\n",
              "    }\n",
              "\n",
              "    .dataframe tbody tr th {\n",
              "        vertical-align: top;\n",
              "    }\n",
              "\n",
              "    .dataframe thead th {\n",
              "        text-align: right;\n",
              "    }\n",
              "</style>\n",
              "<table border=\"1\" class=\"dataframe\">\n",
              "  <thead>\n",
              "    <tr style=\"text-align: right;\">\n",
              "      <th></th>\n",
              "      <th>age</th>\n",
              "      <th>sex</th>\n",
              "      <th>bmi</th>\n",
              "      <th>steps</th>\n",
              "      <th>children</th>\n",
              "      <th>smoker</th>\n",
              "      <th>region</th>\n",
              "      <th>charges</th>\n",
              "      <th>insuranceclaim</th>\n",
              "    </tr>\n",
              "  </thead>\n",
              "  <tbody>\n",
              "    <tr>\n",
              "      <th>0</th>\n",
              "      <td>19</td>\n",
              "      <td>0</td>\n",
              "      <td>27.900</td>\n",
              "      <td>3009</td>\n",
              "      <td>0</td>\n",
              "      <td>1</td>\n",
              "      <td>3</td>\n",
              "      <td>16884.92400</td>\n",
              "      <td>1</td>\n",
              "    </tr>\n",
              "    <tr>\n",
              "      <th>1</th>\n",
              "      <td>18</td>\n",
              "      <td>1</td>\n",
              "      <td>33.770</td>\n",
              "      <td>3008</td>\n",
              "      <td>1</td>\n",
              "      <td>0</td>\n",
              "      <td>2</td>\n",
              "      <td>1725.55230</td>\n",
              "      <td>1</td>\n",
              "    </tr>\n",
              "    <tr>\n",
              "      <th>2</th>\n",
              "      <td>28</td>\n",
              "      <td>1</td>\n",
              "      <td>33.000</td>\n",
              "      <td>3009</td>\n",
              "      <td>3</td>\n",
              "      <td>0</td>\n",
              "      <td>2</td>\n",
              "      <td>4449.46200</td>\n",
              "      <td>0</td>\n",
              "    </tr>\n",
              "    <tr>\n",
              "      <th>3</th>\n",
              "      <td>33</td>\n",
              "      <td>1</td>\n",
              "      <td>22.705</td>\n",
              "      <td>10009</td>\n",
              "      <td>0</td>\n",
              "      <td>0</td>\n",
              "      <td>1</td>\n",
              "      <td>21984.47061</td>\n",
              "      <td>0</td>\n",
              "    </tr>\n",
              "    <tr>\n",
              "      <th>4</th>\n",
              "      <td>32</td>\n",
              "      <td>1</td>\n",
              "      <td>28.880</td>\n",
              "      <td>8010</td>\n",
              "      <td>0</td>\n",
              "      <td>0</td>\n",
              "      <td>1</td>\n",
              "      <td>3866.85520</td>\n",
              "      <td>1</td>\n",
              "    </tr>\n",
              "    <tr>\n",
              "      <th>...</th>\n",
              "      <td>...</td>\n",
              "      <td>...</td>\n",
              "      <td>...</td>\n",
              "      <td>...</td>\n",
              "      <td>...</td>\n",
              "      <td>...</td>\n",
              "      <td>...</td>\n",
              "      <td>...</td>\n",
              "      <td>...</td>\n",
              "    </tr>\n",
              "    <tr>\n",
              "      <th>1333</th>\n",
              "      <td>50</td>\n",
              "      <td>1</td>\n",
              "      <td>30.970</td>\n",
              "      <td>4008</td>\n",
              "      <td>3</td>\n",
              "      <td>0</td>\n",
              "      <td>1</td>\n",
              "      <td>10600.54830</td>\n",
              "      <td>0</td>\n",
              "    </tr>\n",
              "    <tr>\n",
              "      <th>1334</th>\n",
              "      <td>18</td>\n",
              "      <td>0</td>\n",
              "      <td>31.920</td>\n",
              "      <td>3003</td>\n",
              "      <td>0</td>\n",
              "      <td>0</td>\n",
              "      <td>0</td>\n",
              "      <td>2205.98080</td>\n",
              "      <td>1</td>\n",
              "    </tr>\n",
              "    <tr>\n",
              "      <th>1335</th>\n",
              "      <td>18</td>\n",
              "      <td>0</td>\n",
              "      <td>36.850</td>\n",
              "      <td>3008</td>\n",
              "      <td>0</td>\n",
              "      <td>0</td>\n",
              "      <td>2</td>\n",
              "      <td>1629.83350</td>\n",
              "      <td>1</td>\n",
              "    </tr>\n",
              "    <tr>\n",
              "      <th>1336</th>\n",
              "      <td>21</td>\n",
              "      <td>0</td>\n",
              "      <td>25.800</td>\n",
              "      <td>8009</td>\n",
              "      <td>0</td>\n",
              "      <td>0</td>\n",
              "      <td>3</td>\n",
              "      <td>2007.94500</td>\n",
              "      <td>0</td>\n",
              "    </tr>\n",
              "    <tr>\n",
              "      <th>1337</th>\n",
              "      <td>61</td>\n",
              "      <td>0</td>\n",
              "      <td>29.070</td>\n",
              "      <td>8008</td>\n",
              "      <td>0</td>\n",
              "      <td>1</td>\n",
              "      <td>1</td>\n",
              "      <td>29141.36030</td>\n",
              "      <td>1</td>\n",
              "    </tr>\n",
              "  </tbody>\n",
              "</table>\n",
              "<p>1338 rows × 9 columns</p>\n",
              "</div>\n",
              "    <div class=\"colab-df-buttons\">\n",
              "\n",
              "  <div class=\"colab-df-container\">\n",
              "    <button class=\"colab-df-convert\" onclick=\"convertToInteractive('df-eb4c0e9b-cb1f-4841-95bb-b02fc6dfe003')\"\n",
              "            title=\"Convert this dataframe to an interactive table.\"\n",
              "            style=\"display:none;\">\n",
              "\n",
              "  <svg xmlns=\"http://www.w3.org/2000/svg\" height=\"24px\" viewBox=\"0 -960 960 960\">\n",
              "    <path d=\"M120-120v-720h720v720H120Zm60-500h600v-160H180v160Zm220 220h160v-160H400v160Zm0 220h160v-160H400v160ZM180-400h160v-160H180v160Zm440 0h160v-160H620v160ZM180-180h160v-160H180v160Zm440 0h160v-160H620v160Z\"/>\n",
              "  </svg>\n",
              "    </button>\n",
              "\n",
              "  <style>\n",
              "    .colab-df-container {\n",
              "      display:flex;\n",
              "      gap: 12px;\n",
              "    }\n",
              "\n",
              "    .colab-df-convert {\n",
              "      background-color: #E8F0FE;\n",
              "      border: none;\n",
              "      border-radius: 50%;\n",
              "      cursor: pointer;\n",
              "      display: none;\n",
              "      fill: #1967D2;\n",
              "      height: 32px;\n",
              "      padding: 0 0 0 0;\n",
              "      width: 32px;\n",
              "    }\n",
              "\n",
              "    .colab-df-convert:hover {\n",
              "      background-color: #E2EBFA;\n",
              "      box-shadow: 0px 1px 2px rgba(60, 64, 67, 0.3), 0px 1px 3px 1px rgba(60, 64, 67, 0.15);\n",
              "      fill: #174EA6;\n",
              "    }\n",
              "\n",
              "    .colab-df-buttons div {\n",
              "      margin-bottom: 4px;\n",
              "    }\n",
              "\n",
              "    [theme=dark] .colab-df-convert {\n",
              "      background-color: #3B4455;\n",
              "      fill: #D2E3FC;\n",
              "    }\n",
              "\n",
              "    [theme=dark] .colab-df-convert:hover {\n",
              "      background-color: #434B5C;\n",
              "      box-shadow: 0px 1px 3px 1px rgba(0, 0, 0, 0.15);\n",
              "      filter: drop-shadow(0px 1px 2px rgba(0, 0, 0, 0.3));\n",
              "      fill: #FFFFFF;\n",
              "    }\n",
              "  </style>\n",
              "\n",
              "    <script>\n",
              "      const buttonEl =\n",
              "        document.querySelector('#df-eb4c0e9b-cb1f-4841-95bb-b02fc6dfe003 button.colab-df-convert');\n",
              "      buttonEl.style.display =\n",
              "        google.colab.kernel.accessAllowed ? 'block' : 'none';\n",
              "\n",
              "      async function convertToInteractive(key) {\n",
              "        const element = document.querySelector('#df-eb4c0e9b-cb1f-4841-95bb-b02fc6dfe003');\n",
              "        const dataTable =\n",
              "          await google.colab.kernel.invokeFunction('convertToInteractive',\n",
              "                                                    [key], {});\n",
              "        if (!dataTable) return;\n",
              "\n",
              "        const docLinkHtml = 'Like what you see? Visit the ' +\n",
              "          '<a target=\"_blank\" href=https://colab.research.google.com/notebooks/data_table.ipynb>data table notebook</a>'\n",
              "          + ' to learn more about interactive tables.';\n",
              "        element.innerHTML = '';\n",
              "        dataTable['output_type'] = 'display_data';\n",
              "        await google.colab.output.renderOutput(dataTable, element);\n",
              "        const docLink = document.createElement('div');\n",
              "        docLink.innerHTML = docLinkHtml;\n",
              "        element.appendChild(docLink);\n",
              "      }\n",
              "    </script>\n",
              "  </div>\n",
              "\n",
              "\n",
              "<div id=\"df-de351dd6-6e42-4437-b951-5d643ba2c1dd\">\n",
              "  <button class=\"colab-df-quickchart\" onclick=\"quickchart('df-de351dd6-6e42-4437-b951-5d643ba2c1dd')\"\n",
              "            title=\"Suggest charts.\"\n",
              "            style=\"display:none;\">\n",
              "\n",
              "<svg xmlns=\"http://www.w3.org/2000/svg\" height=\"24px\"viewBox=\"0 0 24 24\"\n",
              "     width=\"24px\">\n",
              "    <g>\n",
              "        <path d=\"M19 3H5c-1.1 0-2 .9-2 2v14c0 1.1.9 2 2 2h14c1.1 0 2-.9 2-2V5c0-1.1-.9-2-2-2zM9 17H7v-7h2v7zm4 0h-2V7h2v10zm4 0h-2v-4h2v4z\"/>\n",
              "    </g>\n",
              "</svg>\n",
              "  </button>\n",
              "\n",
              "<style>\n",
              "  .colab-df-quickchart {\n",
              "      --bg-color: #E8F0FE;\n",
              "      --fill-color: #1967D2;\n",
              "      --hover-bg-color: #E2EBFA;\n",
              "      --hover-fill-color: #174EA6;\n",
              "      --disabled-fill-color: #AAA;\n",
              "      --disabled-bg-color: #DDD;\n",
              "  }\n",
              "\n",
              "  [theme=dark] .colab-df-quickchart {\n",
              "      --bg-color: #3B4455;\n",
              "      --fill-color: #D2E3FC;\n",
              "      --hover-bg-color: #434B5C;\n",
              "      --hover-fill-color: #FFFFFF;\n",
              "      --disabled-bg-color: #3B4455;\n",
              "      --disabled-fill-color: #666;\n",
              "  }\n",
              "\n",
              "  .colab-df-quickchart {\n",
              "    background-color: var(--bg-color);\n",
              "    border: none;\n",
              "    border-radius: 50%;\n",
              "    cursor: pointer;\n",
              "    display: none;\n",
              "    fill: var(--fill-color);\n",
              "    height: 32px;\n",
              "    padding: 0;\n",
              "    width: 32px;\n",
              "  }\n",
              "\n",
              "  .colab-df-quickchart:hover {\n",
              "    background-color: var(--hover-bg-color);\n",
              "    box-shadow: 0 1px 2px rgba(60, 64, 67, 0.3), 0 1px 3px 1px rgba(60, 64, 67, 0.15);\n",
              "    fill: var(--button-hover-fill-color);\n",
              "  }\n",
              "\n",
              "  .colab-df-quickchart-complete:disabled,\n",
              "  .colab-df-quickchart-complete:disabled:hover {\n",
              "    background-color: var(--disabled-bg-color);\n",
              "    fill: var(--disabled-fill-color);\n",
              "    box-shadow: none;\n",
              "  }\n",
              "\n",
              "  .colab-df-spinner {\n",
              "    border: 2px solid var(--fill-color);\n",
              "    border-color: transparent;\n",
              "    border-bottom-color: var(--fill-color);\n",
              "    animation:\n",
              "      spin 1s steps(1) infinite;\n",
              "  }\n",
              "\n",
              "  @keyframes spin {\n",
              "    0% {\n",
              "      border-color: transparent;\n",
              "      border-bottom-color: var(--fill-color);\n",
              "      border-left-color: var(--fill-color);\n",
              "    }\n",
              "    20% {\n",
              "      border-color: transparent;\n",
              "      border-left-color: var(--fill-color);\n",
              "      border-top-color: var(--fill-color);\n",
              "    }\n",
              "    30% {\n",
              "      border-color: transparent;\n",
              "      border-left-color: var(--fill-color);\n",
              "      border-top-color: var(--fill-color);\n",
              "      border-right-color: var(--fill-color);\n",
              "    }\n",
              "    40% {\n",
              "      border-color: transparent;\n",
              "      border-right-color: var(--fill-color);\n",
              "      border-top-color: var(--fill-color);\n",
              "    }\n",
              "    60% {\n",
              "      border-color: transparent;\n",
              "      border-right-color: var(--fill-color);\n",
              "    }\n",
              "    80% {\n",
              "      border-color: transparent;\n",
              "      border-right-color: var(--fill-color);\n",
              "      border-bottom-color: var(--fill-color);\n",
              "    }\n",
              "    90% {\n",
              "      border-color: transparent;\n",
              "      border-bottom-color: var(--fill-color);\n",
              "    }\n",
              "  }\n",
              "</style>\n",
              "\n",
              "  <script>\n",
              "    async function quickchart(key) {\n",
              "      const quickchartButtonEl =\n",
              "        document.querySelector('#' + key + ' button');\n",
              "      quickchartButtonEl.disabled = true;  // To prevent multiple clicks.\n",
              "      quickchartButtonEl.classList.add('colab-df-spinner');\n",
              "      try {\n",
              "        const charts = await google.colab.kernel.invokeFunction(\n",
              "            'suggestCharts', [key], {});\n",
              "      } catch (error) {\n",
              "        console.error('Error during call to suggestCharts:', error);\n",
              "      }\n",
              "      quickchartButtonEl.classList.remove('colab-df-spinner');\n",
              "      quickchartButtonEl.classList.add('colab-df-quickchart-complete');\n",
              "    }\n",
              "    (() => {\n",
              "      let quickchartButtonEl =\n",
              "        document.querySelector('#df-de351dd6-6e42-4437-b951-5d643ba2c1dd button');\n",
              "      quickchartButtonEl.style.display =\n",
              "        google.colab.kernel.accessAllowed ? 'block' : 'none';\n",
              "    })();\n",
              "  </script>\n",
              "</div>\n",
              "    </div>\n",
              "  </div>\n"
            ]
          },
          "metadata": {},
          "execution_count": 5
        }
      ],
      "source": [
        "# view data\n",
        "data"
      ]
    },
    {
      "cell_type": "code",
      "execution_count": 6,
      "id": "6bd774ed",
      "metadata": {
        "colab": {
          "base_uri": "https://localhost:8080/"
        },
        "id": "6bd774ed",
        "outputId": "6ce1175f-b0f5-4149-9bee-6464b62321e2"
      },
      "outputs": [
        {
          "output_type": "stream",
          "name": "stdout",
          "text": [
            "<class 'pandas.core.frame.DataFrame'>\n",
            "RangeIndex: 1338 entries, 0 to 1337\n",
            "Data columns (total 9 columns):\n",
            " #   Column          Non-Null Count  Dtype  \n",
            "---  ------          --------------  -----  \n",
            " 0   age             1338 non-null   int64  \n",
            " 1   sex             1338 non-null   int64  \n",
            " 2   bmi             1338 non-null   float64\n",
            " 3   steps           1338 non-null   int64  \n",
            " 4   children        1338 non-null   int64  \n",
            " 5   smoker          1338 non-null   int64  \n",
            " 6   region          1338 non-null   int64  \n",
            " 7   charges         1338 non-null   float64\n",
            " 8   insuranceclaim  1338 non-null   int64  \n",
            "dtypes: float64(2), int64(7)\n",
            "memory usage: 94.2 KB\n"
          ]
        }
      ],
      "source": [
        "# view information for each column in the data\n",
        "data.info()"
      ]
    },
    {
      "cell_type": "markdown",
      "id": "eea5c821",
      "metadata": {
        "id": "eea5c821"
      },
      "source": [
        "Insurance data has 9 columns, namely `age`, `sex`, `BMI`, `steps`, `children`, `smoker`, `region`, `charges`, and `insuranceclaim`.\n",
        "The explanation regarding each column is as follows:\n",
        "- `age` : age of the policy holder\n",
        "- `sex`: the gender of the police holder (female = 0, male = 1)\n",
        "- `bmi`: body mass index, provides an understanding of the body, high or low weight relative to height, objective index of body weight (kg/m ^ 2) using the ratio of height to body weight. The ideal BMI is 18.5 to 25.\n",
        "- `steps`: average walking steps per day of the policyholder\n",
        "- `children`: the number of children of the police holder\n",
        "- `smoker`: smoking state of policyholder (non-smoke=0;smoker=1)\n",
        "- `region`: area of residence of the policyholder in the US (northeast=0, northwest=1, southeast=2, southwest=3)\n",
        "- `charges`: individual medical expenses billed by health insurance\n",
        "- `insuranceclaim`: whether a policyholder claims insurance (yes=1, no=0)\n",
        "\n",
        "All columns in the dataset have an integer data type except for the `bmi` and `charges` columns which have a float data type"
      ]
    },
    {
      "cell_type": "markdown",
      "source": [
        "#### Missing Values"
      ],
      "metadata": {
        "id": "fA2SoTKl-kSr"
      },
      "id": "fA2SoTKl-kSr"
    },
    {
      "cell_type": "code",
      "execution_count": 7,
      "id": "a02a5171",
      "metadata": {
        "colab": {
          "base_uri": "https://localhost:8080/"
        },
        "id": "a02a5171",
        "outputId": "f094a028-da36-4ca8-a130-5044e6838d25"
      },
      "outputs": [
        {
          "output_type": "execute_result",
          "data": {
            "text/plain": [
              "age               0\n",
              "sex               0\n",
              "bmi               0\n",
              "steps             0\n",
              "children          0\n",
              "smoker            0\n",
              "region            0\n",
              "charges           0\n",
              "insuranceclaim    0\n",
              "dtype: int64"
            ]
          },
          "metadata": {},
          "execution_count": 7
        }
      ],
      "source": [
        "# check whether there are missing values ​​in the data\n",
        "data.isnull().sum()"
      ]
    },
    {
      "cell_type": "markdown",
      "id": "e075301d",
      "metadata": {
        "id": "e075301d"
      },
      "source": [
        "The data has no missing value"
      ]
    },
    {
      "cell_type": "markdown",
      "id": "20a9ff78",
      "metadata": {
        "id": "20a9ff78"
      },
      "source": [
        "#### Statistical Distribution of Data"
      ]
    },
    {
      "cell_type": "code",
      "execution_count": 10,
      "id": "QLjLm8DhNvdX",
      "metadata": {
        "colab": {
          "base_uri": "https://localhost:8080/",
          "height": 300
        },
        "id": "QLjLm8DhNvdX",
        "outputId": "c58204ca-22a0-47c8-b193-2551863f01c3"
      },
      "outputs": [
        {
          "output_type": "execute_result",
          "data": {
            "text/plain": [
              "               age          sex          bmi         steps     children  \\\n",
              "count  1338.000000  1338.000000  1338.000000   1338.000000  1338.000000   \n",
              "mean     39.207025     0.505232    30.663397   5328.623318     1.094918   \n",
              "std      14.049960     0.500160     6.098187   2453.643236     1.205493   \n",
              "min      18.000000     0.000000    15.960000   3000.000000     0.000000   \n",
              "25%      27.000000     0.000000    26.296250   3008.000000     0.000000   \n",
              "50%      39.000000     1.000000    30.400000   4007.000000     1.000000   \n",
              "75%      51.000000     1.000000    34.693750   8004.000000     2.000000   \n",
              "max      64.000000     1.000000    53.130000  10010.000000     5.000000   \n",
              "\n",
              "            smoker       region       charges  insuranceclaim  \n",
              "count  1338.000000  1338.000000   1338.000000     1338.000000  \n",
              "mean      0.204783     1.515695  13270.422265        0.585202  \n",
              "std       0.403694     1.104885  12110.011237        0.492871  \n",
              "min       0.000000     0.000000   1121.873900        0.000000  \n",
              "25%       0.000000     1.000000   4740.287150        0.000000  \n",
              "50%       0.000000     2.000000   9382.033000        1.000000  \n",
              "75%       0.000000     2.000000  16639.912515        1.000000  \n",
              "max       1.000000     3.000000  63770.428010        1.000000  "
            ],
            "text/html": [
              "\n",
              "  <div id=\"df-45bcfa4e-9d52-4742-b6eb-09f75d8025a6\" class=\"colab-df-container\">\n",
              "    <div>\n",
              "<style scoped>\n",
              "    .dataframe tbody tr th:only-of-type {\n",
              "        vertical-align: middle;\n",
              "    }\n",
              "\n",
              "    .dataframe tbody tr th {\n",
              "        vertical-align: top;\n",
              "    }\n",
              "\n",
              "    .dataframe thead th {\n",
              "        text-align: right;\n",
              "    }\n",
              "</style>\n",
              "<table border=\"1\" class=\"dataframe\">\n",
              "  <thead>\n",
              "    <tr style=\"text-align: right;\">\n",
              "      <th></th>\n",
              "      <th>age</th>\n",
              "      <th>sex</th>\n",
              "      <th>bmi</th>\n",
              "      <th>steps</th>\n",
              "      <th>children</th>\n",
              "      <th>smoker</th>\n",
              "      <th>region</th>\n",
              "      <th>charges</th>\n",
              "      <th>insuranceclaim</th>\n",
              "    </tr>\n",
              "  </thead>\n",
              "  <tbody>\n",
              "    <tr>\n",
              "      <th>count</th>\n",
              "      <td>1338.000000</td>\n",
              "      <td>1338.000000</td>\n",
              "      <td>1338.000000</td>\n",
              "      <td>1338.000000</td>\n",
              "      <td>1338.000000</td>\n",
              "      <td>1338.000000</td>\n",
              "      <td>1338.000000</td>\n",
              "      <td>1338.000000</td>\n",
              "      <td>1338.000000</td>\n",
              "    </tr>\n",
              "    <tr>\n",
              "      <th>mean</th>\n",
              "      <td>39.207025</td>\n",
              "      <td>0.505232</td>\n",
              "      <td>30.663397</td>\n",
              "      <td>5328.623318</td>\n",
              "      <td>1.094918</td>\n",
              "      <td>0.204783</td>\n",
              "      <td>1.515695</td>\n",
              "      <td>13270.422265</td>\n",
              "      <td>0.585202</td>\n",
              "    </tr>\n",
              "    <tr>\n",
              "      <th>std</th>\n",
              "      <td>14.049960</td>\n",
              "      <td>0.500160</td>\n",
              "      <td>6.098187</td>\n",
              "      <td>2453.643236</td>\n",
              "      <td>1.205493</td>\n",
              "      <td>0.403694</td>\n",
              "      <td>1.104885</td>\n",
              "      <td>12110.011237</td>\n",
              "      <td>0.492871</td>\n",
              "    </tr>\n",
              "    <tr>\n",
              "      <th>min</th>\n",
              "      <td>18.000000</td>\n",
              "      <td>0.000000</td>\n",
              "      <td>15.960000</td>\n",
              "      <td>3000.000000</td>\n",
              "      <td>0.000000</td>\n",
              "      <td>0.000000</td>\n",
              "      <td>0.000000</td>\n",
              "      <td>1121.873900</td>\n",
              "      <td>0.000000</td>\n",
              "    </tr>\n",
              "    <tr>\n",
              "      <th>25%</th>\n",
              "      <td>27.000000</td>\n",
              "      <td>0.000000</td>\n",
              "      <td>26.296250</td>\n",
              "      <td>3008.000000</td>\n",
              "      <td>0.000000</td>\n",
              "      <td>0.000000</td>\n",
              "      <td>1.000000</td>\n",
              "      <td>4740.287150</td>\n",
              "      <td>0.000000</td>\n",
              "    </tr>\n",
              "    <tr>\n",
              "      <th>50%</th>\n",
              "      <td>39.000000</td>\n",
              "      <td>1.000000</td>\n",
              "      <td>30.400000</td>\n",
              "      <td>4007.000000</td>\n",
              "      <td>1.000000</td>\n",
              "      <td>0.000000</td>\n",
              "      <td>2.000000</td>\n",
              "      <td>9382.033000</td>\n",
              "      <td>1.000000</td>\n",
              "    </tr>\n",
              "    <tr>\n",
              "      <th>75%</th>\n",
              "      <td>51.000000</td>\n",
              "      <td>1.000000</td>\n",
              "      <td>34.693750</td>\n",
              "      <td>8004.000000</td>\n",
              "      <td>2.000000</td>\n",
              "      <td>0.000000</td>\n",
              "      <td>2.000000</td>\n",
              "      <td>16639.912515</td>\n",
              "      <td>1.000000</td>\n",
              "    </tr>\n",
              "    <tr>\n",
              "      <th>max</th>\n",
              "      <td>64.000000</td>\n",
              "      <td>1.000000</td>\n",
              "      <td>53.130000</td>\n",
              "      <td>10010.000000</td>\n",
              "      <td>5.000000</td>\n",
              "      <td>1.000000</td>\n",
              "      <td>3.000000</td>\n",
              "      <td>63770.428010</td>\n",
              "      <td>1.000000</td>\n",
              "    </tr>\n",
              "  </tbody>\n",
              "</table>\n",
              "</div>\n",
              "    <div class=\"colab-df-buttons\">\n",
              "\n",
              "  <div class=\"colab-df-container\">\n",
              "    <button class=\"colab-df-convert\" onclick=\"convertToInteractive('df-45bcfa4e-9d52-4742-b6eb-09f75d8025a6')\"\n",
              "            title=\"Convert this dataframe to an interactive table.\"\n",
              "            style=\"display:none;\">\n",
              "\n",
              "  <svg xmlns=\"http://www.w3.org/2000/svg\" height=\"24px\" viewBox=\"0 -960 960 960\">\n",
              "    <path d=\"M120-120v-720h720v720H120Zm60-500h600v-160H180v160Zm220 220h160v-160H400v160Zm0 220h160v-160H400v160ZM180-400h160v-160H180v160Zm440 0h160v-160H620v160ZM180-180h160v-160H180v160Zm440 0h160v-160H620v160Z\"/>\n",
              "  </svg>\n",
              "    </button>\n",
              "\n",
              "  <style>\n",
              "    .colab-df-container {\n",
              "      display:flex;\n",
              "      gap: 12px;\n",
              "    }\n",
              "\n",
              "    .colab-df-convert {\n",
              "      background-color: #E8F0FE;\n",
              "      border: none;\n",
              "      border-radius: 50%;\n",
              "      cursor: pointer;\n",
              "      display: none;\n",
              "      fill: #1967D2;\n",
              "      height: 32px;\n",
              "      padding: 0 0 0 0;\n",
              "      width: 32px;\n",
              "    }\n",
              "\n",
              "    .colab-df-convert:hover {\n",
              "      background-color: #E2EBFA;\n",
              "      box-shadow: 0px 1px 2px rgba(60, 64, 67, 0.3), 0px 1px 3px 1px rgba(60, 64, 67, 0.15);\n",
              "      fill: #174EA6;\n",
              "    }\n",
              "\n",
              "    .colab-df-buttons div {\n",
              "      margin-bottom: 4px;\n",
              "    }\n",
              "\n",
              "    [theme=dark] .colab-df-convert {\n",
              "      background-color: #3B4455;\n",
              "      fill: #D2E3FC;\n",
              "    }\n",
              "\n",
              "    [theme=dark] .colab-df-convert:hover {\n",
              "      background-color: #434B5C;\n",
              "      box-shadow: 0px 1px 3px 1px rgba(0, 0, 0, 0.15);\n",
              "      filter: drop-shadow(0px 1px 2px rgba(0, 0, 0, 0.3));\n",
              "      fill: #FFFFFF;\n",
              "    }\n",
              "  </style>\n",
              "\n",
              "    <script>\n",
              "      const buttonEl =\n",
              "        document.querySelector('#df-45bcfa4e-9d52-4742-b6eb-09f75d8025a6 button.colab-df-convert');\n",
              "      buttonEl.style.display =\n",
              "        google.colab.kernel.accessAllowed ? 'block' : 'none';\n",
              "\n",
              "      async function convertToInteractive(key) {\n",
              "        const element = document.querySelector('#df-45bcfa4e-9d52-4742-b6eb-09f75d8025a6');\n",
              "        const dataTable =\n",
              "          await google.colab.kernel.invokeFunction('convertToInteractive',\n",
              "                                                    [key], {});\n",
              "        if (!dataTable) return;\n",
              "\n",
              "        const docLinkHtml = 'Like what you see? Visit the ' +\n",
              "          '<a target=\"_blank\" href=https://colab.research.google.com/notebooks/data_table.ipynb>data table notebook</a>'\n",
              "          + ' to learn more about interactive tables.';\n",
              "        element.innerHTML = '';\n",
              "        dataTable['output_type'] = 'display_data';\n",
              "        await google.colab.output.renderOutput(dataTable, element);\n",
              "        const docLink = document.createElement('div');\n",
              "        docLink.innerHTML = docLinkHtml;\n",
              "        element.appendChild(docLink);\n",
              "      }\n",
              "    </script>\n",
              "  </div>\n",
              "\n",
              "\n",
              "<div id=\"df-c87928f9-9f26-4fa3-8919-ff8840404cb6\">\n",
              "  <button class=\"colab-df-quickchart\" onclick=\"quickchart('df-c87928f9-9f26-4fa3-8919-ff8840404cb6')\"\n",
              "            title=\"Suggest charts.\"\n",
              "            style=\"display:none;\">\n",
              "\n",
              "<svg xmlns=\"http://www.w3.org/2000/svg\" height=\"24px\"viewBox=\"0 0 24 24\"\n",
              "     width=\"24px\">\n",
              "    <g>\n",
              "        <path d=\"M19 3H5c-1.1 0-2 .9-2 2v14c0 1.1.9 2 2 2h14c1.1 0 2-.9 2-2V5c0-1.1-.9-2-2-2zM9 17H7v-7h2v7zm4 0h-2V7h2v10zm4 0h-2v-4h2v4z\"/>\n",
              "    </g>\n",
              "</svg>\n",
              "  </button>\n",
              "\n",
              "<style>\n",
              "  .colab-df-quickchart {\n",
              "      --bg-color: #E8F0FE;\n",
              "      --fill-color: #1967D2;\n",
              "      --hover-bg-color: #E2EBFA;\n",
              "      --hover-fill-color: #174EA6;\n",
              "      --disabled-fill-color: #AAA;\n",
              "      --disabled-bg-color: #DDD;\n",
              "  }\n",
              "\n",
              "  [theme=dark] .colab-df-quickchart {\n",
              "      --bg-color: #3B4455;\n",
              "      --fill-color: #D2E3FC;\n",
              "      --hover-bg-color: #434B5C;\n",
              "      --hover-fill-color: #FFFFFF;\n",
              "      --disabled-bg-color: #3B4455;\n",
              "      --disabled-fill-color: #666;\n",
              "  }\n",
              "\n",
              "  .colab-df-quickchart {\n",
              "    background-color: var(--bg-color);\n",
              "    border: none;\n",
              "    border-radius: 50%;\n",
              "    cursor: pointer;\n",
              "    display: none;\n",
              "    fill: var(--fill-color);\n",
              "    height: 32px;\n",
              "    padding: 0;\n",
              "    width: 32px;\n",
              "  }\n",
              "\n",
              "  .colab-df-quickchart:hover {\n",
              "    background-color: var(--hover-bg-color);\n",
              "    box-shadow: 0 1px 2px rgba(60, 64, 67, 0.3), 0 1px 3px 1px rgba(60, 64, 67, 0.15);\n",
              "    fill: var(--button-hover-fill-color);\n",
              "  }\n",
              "\n",
              "  .colab-df-quickchart-complete:disabled,\n",
              "  .colab-df-quickchart-complete:disabled:hover {\n",
              "    background-color: var(--disabled-bg-color);\n",
              "    fill: var(--disabled-fill-color);\n",
              "    box-shadow: none;\n",
              "  }\n",
              "\n",
              "  .colab-df-spinner {\n",
              "    border: 2px solid var(--fill-color);\n",
              "    border-color: transparent;\n",
              "    border-bottom-color: var(--fill-color);\n",
              "    animation:\n",
              "      spin 1s steps(1) infinite;\n",
              "  }\n",
              "\n",
              "  @keyframes spin {\n",
              "    0% {\n",
              "      border-color: transparent;\n",
              "      border-bottom-color: var(--fill-color);\n",
              "      border-left-color: var(--fill-color);\n",
              "    }\n",
              "    20% {\n",
              "      border-color: transparent;\n",
              "      border-left-color: var(--fill-color);\n",
              "      border-top-color: var(--fill-color);\n",
              "    }\n",
              "    30% {\n",
              "      border-color: transparent;\n",
              "      border-left-color: var(--fill-color);\n",
              "      border-top-color: var(--fill-color);\n",
              "      border-right-color: var(--fill-color);\n",
              "    }\n",
              "    40% {\n",
              "      border-color: transparent;\n",
              "      border-right-color: var(--fill-color);\n",
              "      border-top-color: var(--fill-color);\n",
              "    }\n",
              "    60% {\n",
              "      border-color: transparent;\n",
              "      border-right-color: var(--fill-color);\n",
              "    }\n",
              "    80% {\n",
              "      border-color: transparent;\n",
              "      border-right-color: var(--fill-color);\n",
              "      border-bottom-color: var(--fill-color);\n",
              "    }\n",
              "    90% {\n",
              "      border-color: transparent;\n",
              "      border-bottom-color: var(--fill-color);\n",
              "    }\n",
              "  }\n",
              "</style>\n",
              "\n",
              "  <script>\n",
              "    async function quickchart(key) {\n",
              "      const quickchartButtonEl =\n",
              "        document.querySelector('#' + key + ' button');\n",
              "      quickchartButtonEl.disabled = true;  // To prevent multiple clicks.\n",
              "      quickchartButtonEl.classList.add('colab-df-spinner');\n",
              "      try {\n",
              "        const charts = await google.colab.kernel.invokeFunction(\n",
              "            'suggestCharts', [key], {});\n",
              "      } catch (error) {\n",
              "        console.error('Error during call to suggestCharts:', error);\n",
              "      }\n",
              "      quickchartButtonEl.classList.remove('colab-df-spinner');\n",
              "      quickchartButtonEl.classList.add('colab-df-quickchart-complete');\n",
              "    }\n",
              "    (() => {\n",
              "      let quickchartButtonEl =\n",
              "        document.querySelector('#df-c87928f9-9f26-4fa3-8919-ff8840404cb6 button');\n",
              "      quickchartButtonEl.style.display =\n",
              "        google.colab.kernel.accessAllowed ? 'block' : 'none';\n",
              "    })();\n",
              "  </script>\n",
              "</div>\n",
              "    </div>\n",
              "  </div>\n"
            ]
          },
          "metadata": {},
          "execution_count": 10
        }
      ],
      "source": [
        "data.describe()"
      ]
    },
    {
      "cell_type": "markdown",
      "id": "tUAYEJg5PvND",
      "metadata": {
        "id": "tUAYEJg5PvND"
      },
      "source": [
        "- The `age` range of policy holders in this data is from 18 to 64 years old.\n",
        "- The lowest policyholder `bmi` is 15.96 and the highest is 53.13. The average policyholder `bmi` in this data is 30.66.\n",
        "-  The average daily steps of a policyholder (`steps`) ranges from 3000 to 10010.\n",
        "- The number of children the policy holder has (`children`) is between 0 and 5 children.\n",
        "- Policyholder medical costs billed by health insurance (`charges`) in this data range from 1121.873900 to 63770.428010."
      ]
    },
    {
      "cell_type": "markdown",
      "source": [
        "#### Correlation Between Each Variable"
      ],
      "metadata": {
        "id": "nwAsnzRV-3P-"
      },
      "id": "nwAsnzRV-3P-"
    },
    {
      "cell_type": "code",
      "execution_count": 11,
      "id": "ae8352c8",
      "metadata": {
        "colab": {
          "base_uri": "https://localhost:8080/",
          "height": 836
        },
        "id": "ae8352c8",
        "outputId": "fb4b6d87-e223-4932-d1e9-82ca8569f633"
      },
      "outputs": [
        {
          "output_type": "display_data",
          "data": {
            "text/plain": [
              "<Figure size 1200x1000 with 2 Axes>"
            ],
            "image/png": "[encoded data removed]"
          },
          "metadata": {}
        }
      ],
      "source": [
        "plt.figure(figsize=(12,10))\n",
        "p = sns.heatmap(data.corr(), annot=True,cmap ='RdYlGn')"
      ]
    },
    {
      "cell_type": "markdown",
      "id": "eb4cd951",
      "metadata": {
        "id": "eb4cd951"
      },
      "source": [
        "From the output above, the results show that the `bmi` column and `steps` column have a high negative correlation, namely -0.68 which indicates the presence of ***multicollinearity*** which can cause bias during later modeling. To overcome that, one of the columns must be removed.\n",
        "\n",
        "I chose the ***`steps` column to be removed***, because the `bmi` column is more important than `steps` to predict whether someone will claim insurance or not. People with a high BMI are at risk of several health conditions related to obesity, thus influencing a person's decision to make an insurance claim."
      ]
    },
    {
      "cell_type": "code",
      "execution_count": 12,
      "id": "aa2ea4a4",
      "metadata": {
        "id": "aa2ea4a4"
      },
      "outputs": [],
      "source": [
        "# remove the steps column in the dataset\n",
        "processed_dataset_1 = data.copy(deep=True)\n",
        "processed_dataset_1 = processed_dataset_1.drop(['steps'], axis=1)"
      ]
    },
    {
      "cell_type": "markdown",
      "source": [
        "After the `steps` variable has been removed from the data, now the dataset only has 8 columns, namely 7 independent variables (`age`,`sex`,`bmi`,`children`,`smoker`,` region`, and `charges`) and 1 dependent variable (`insuranceclaim`)."
      ],
      "metadata": {
        "id": "8xGOzfeLDp8M"
      },
      "id": "8xGOzfeLDp8M"
    },
    {
      "cell_type": "markdown",
      "id": "a39fcb56",
      "metadata": {
        "id": "a39fcb56"
      },
      "source": [
        "The next problem with this dataset is that the values between ***each independent variable have a wide range of values***, so it is necessary to normalize the data. This time I used ***z-score to normalize the data***. The formula for *z-score normalization* is z = X - μ / σ.\n",
        "\n",
        "Z-score normalization is a technique that normalizes attribute values based on the mean value and standard deviation. Normalization is carried out so that there is no dilution of data attributes that have a lower value scale with other attributes that have a larger scale value, even though perhaps attributes that have a lower value scale also have the same importance."
      ]
    },
    {
      "cell_type": "code",
      "execution_count": 13,
      "id": "2e3316c4",
      "metadata": {
        "id": "2e3316c4"
      },
      "outputs": [],
      "source": [
        "# normalize all independent variables\n",
        "processed_dataset_final = processed_dataset_1.copy(deep=True)\n",
        "processed_dataset_final['age'] = (processed_dataset_final['age']-processed_dataset_final['age'].mean())/processed_dataset_final['age'].std()\n",
        "processed_dataset_final['sex'] = (processed_dataset_final['sex']-processed_dataset_final['sex'].mean())/processed_dataset_final['sex'].std()\n",
        "processed_dataset_final['bmi'] = (processed_dataset_final['bmi']-processed_dataset_final['bmi'].mean())/processed_dataset_final['bmi'].std()\n",
        "processed_dataset_final['children'] = (processed_dataset_final['children']-processed_dataset_final['children'].mean())/processed_dataset_final['children'].std()\n",
        "processed_dataset_final['smoker'] = (processed_dataset_final['smoker']-processed_dataset_final['smoker'].mean())/processed_dataset_final['smoker'].std()\n",
        "processed_dataset_final['region'] = (processed_dataset_final['region']-processed_dataset_final['region'].mean())/processed_dataset_final['region'].std()\n",
        "processed_dataset_final['charges'] = (processed_dataset_final['charges']-processed_dataset_final['charges'].mean())/processed_dataset_final['charges'].std()"
      ]
    },
    {
      "cell_type": "code",
      "execution_count": 14,
      "id": "faf1a6fc",
      "metadata": {
        "colab": {
          "base_uri": "https://localhost:8080/",
          "height": 206
        },
        "id": "faf1a6fc",
        "outputId": "933344be-aed7-4af1-8816-4fbdfa0a4f41"
      },
      "outputs": [
        {
          "output_type": "execute_result",
          "data": {
            "text/plain": [
              "        age       sex       bmi  children    smoker    region   charges  \\\n",
              "0 -1.438227 -1.010141 -0.453151 -0.908274  1.969850  1.343402  0.298472   \n",
              "1 -1.509401  0.989221  0.509431 -0.078738 -0.507273  0.438331 -0.953333   \n",
              "2 -0.797655  0.989221  0.383164  1.580335 -0.507273  0.438331 -0.728402   \n",
              "3 -0.441782  0.989221 -1.305043 -0.908274 -0.507273 -0.466741  0.719574   \n",
              "4 -0.512957  0.989221 -0.292447 -0.908274 -0.507273 -0.466741 -0.776512   \n",
              "\n",
              "   insuranceclaim  \n",
              "0               1  \n",
              "1               1  \n",
              "2               0  \n",
              "3               0  \n",
              "4               1  "
            ],
            "text/html": [
              "\n",
              "  <div id=\"df-4d0944fd-7b20-482e-ac3e-86de0dd6ed9e\" class=\"colab-df-container\">\n",
              "    <div>\n",
              "<style scoped>\n",
              "    .dataframe tbody tr th:only-of-type {\n",
              "        vertical-align: middle;\n",
              "    }\n",
              "\n",
              "    .dataframe tbody tr th {\n",
              "        vertical-align: top;\n",
              "    }\n",
              "\n",
              "    .dataframe thead th {\n",
              "        text-align: right;\n",
              "    }\n",
              "</style>\n",
              "<table border=\"1\" class=\"dataframe\">\n",
              "  <thead>\n",
              "    <tr style=\"text-align: right;\">\n",
              "      <th></th>\n",
              "      <th>age</th>\n",
              "      <th>sex</th>\n",
              "      <th>bmi</th>\n",
              "      <th>children</th>\n",
              "      <th>smoker</th>\n",
              "      <th>region</th>\n",
              "      <th>charges</th>\n",
              "      <th>insuranceclaim</th>\n",
              "    </tr>\n",
              "  </thead>\n",
              "  <tbody>\n",
              "    <tr>\n",
              "      <th>0</th>\n",
              "      <td>-1.438227</td>\n",
              "      <td>-1.010141</td>\n",
              "      <td>-0.453151</td>\n",
              "      <td>-0.908274</td>\n",
              "      <td>1.969850</td>\n",
              "      <td>1.343402</td>\n",
              "      <td>0.298472</td>\n",
              "      <td>1</td>\n",
              "    </tr>\n",
              "    <tr>\n",
              "      <th>1</th>\n",
              "      <td>-1.509401</td>\n",
              "      <td>0.989221</td>\n",
              "      <td>0.509431</td>\n",
              "      <td>-0.078738</td>\n",
              "      <td>-0.507273</td>\n",
              "      <td>0.438331</td>\n",
              "      <td>-0.953333</td>\n",
              "      <td>1</td>\n",
              "    </tr>\n",
              "    <tr>\n",
              "      <th>2</th>\n",
              "      <td>-0.797655</td>\n",
              "      <td>0.989221</td>\n",
              "      <td>0.383164</td>\n",
              "      <td>1.580335</td>\n",
              "      <td>-0.507273</td>\n",
              "      <td>0.438331</td>\n",
              "      <td>-0.728402</td>\n",
              "      <td>0</td>\n",
              "    </tr>\n",
              "    <tr>\n",
              "      <th>3</th>\n",
              "      <td>-0.441782</td>\n",
              "      <td>0.989221</td>\n",
              "      <td>-1.305043</td>\n",
              "      <td>-0.908274</td>\n",
              "      <td>-0.507273</td>\n",
              "      <td>-0.466741</td>\n",
              "      <td>0.719574</td>\n",
              "      <td>0</td>\n",
              "    </tr>\n",
              "    <tr>\n",
              "      <th>4</th>\n",
              "      <td>-0.512957</td>\n",
              "      <td>0.989221</td>\n",
              "      <td>-0.292447</td>\n",
              "      <td>-0.908274</td>\n",
              "      <td>-0.507273</td>\n",
              "      <td>-0.466741</td>\n",
              "      <td>-0.776512</td>\n",
              "      <td>1</td>\n",
              "    </tr>\n",
              "  </tbody>\n",
              "</table>\n",
              "</div>\n",
              "    <div class=\"colab-df-buttons\">\n",
              "\n",
              "  <div class=\"colab-df-container\">\n",
              "    <button class=\"colab-df-convert\" onclick=\"convertToInteractive('df-4d0944fd-7b20-482e-ac3e-86de0dd6ed9e')\"\n",
              "            title=\"Convert this dataframe to an interactive table.\"\n",
              "            style=\"display:none;\">\n",
              "\n",
              "  <svg xmlns=\"http://www.w3.org/2000/svg\" height=\"24px\" viewBox=\"0 -960 960 960\">\n",
              "    <path d=\"M120-120v-720h720v720H120Zm60-500h600v-160H180v160Zm220 220h160v-160H400v160Zm0 220h160v-160H400v160ZM180-400h160v-160H180v160Zm440 0h160v-160H620v160ZM180-180h160v-160H180v160Zm440 0h160v-160H620v160Z\"/>\n",
              "  </svg>\n",
              "    </button>\n",
              "\n",
              "  <style>\n",
              "    .colab-df-container {\n",
              "      display:flex;\n",
              "      gap: 12px;\n",
              "    }\n",
              "\n",
              "    .colab-df-convert {\n",
              "      background-color: #E8F0FE;\n",
              "      border: none;\n",
              "      border-radius: 50%;\n",
              "      cursor: pointer;\n",
              "      display: none;\n",
              "      fill: #1967D2;\n",
              "      height: 32px;\n",
              "      padding: 0 0 0 0;\n",
              "      width: 32px;\n",
              "    }\n",
              "\n",
              "    .colab-df-convert:hover {\n",
              "      background-color: #E2EBFA;\n",
              "      box-shadow: 0px 1px 2px rgba(60, 64, 67, 0.3), 0px 1px 3px 1px rgba(60, 64, 67, 0.15);\n",
              "      fill: #174EA6;\n",
              "    }\n",
              "\n",
              "    .colab-df-buttons div {\n",
              "      margin-bottom: 4px;\n",
              "    }\n",
              "\n",
              "    [theme=dark] .colab-df-convert {\n",
              "      background-color: #3B4455;\n",
              "      fill: #D2E3FC;\n",
              "    }\n",
              "\n",
              "    [theme=dark] .colab-df-convert:hover {\n",
              "      background-color: #434B5C;\n",
              "      box-shadow: 0px 1px 3px 1px rgba(0, 0, 0, 0.15);\n",
              "      filter: drop-shadow(0px 1px 2px rgba(0, 0, 0, 0.3));\n",
              "      fill: #FFFFFF;\n",
              "    }\n",
              "  </style>\n",
              "\n",
              "    <script>\n",
              "      const buttonEl =\n",
              "        document.querySelector('#df-4d0944fd-7b20-482e-ac3e-86de0dd6ed9e button.colab-df-convert');\n",
              "      buttonEl.style.display =\n",
              "        google.colab.kernel.accessAllowed ? 'block' : 'none';\n",
              "\n",
              "      async function convertToInteractive(key) {\n",
              "        const element = document.querySelector('#df-4d0944fd-7b20-482e-ac3e-86de0dd6ed9e');\n",
              "        const dataTable =\n",
              "          await google.colab.kernel.invokeFunction('convertToInteractive',\n",
              "                                                    [key], {});\n",
              "        if (!dataTable) return;\n",
              "\n",
              "        const docLinkHtml = 'Like what you see? Visit the ' +\n",
              "          '<a target=\"_blank\" href=https://colab.research.google.com/notebooks/data_table.ipynb>data table notebook</a>'\n",
              "          + ' to learn more about interactive tables.';\n",
              "        element.innerHTML = '';\n",
              "        dataTable['output_type'] = 'display_data';\n",
              "        await google.colab.output.renderOutput(dataTable, element);\n",
              "        const docLink = document.createElement('div');\n",
              "        docLink.innerHTML = docLinkHtml;\n",
              "        element.appendChild(docLink);\n",
              "      }\n",
              "    </script>\n",
              "  </div>\n",
              "\n",
              "\n",
              "<div id=\"df-326219ff-5bc0-474c-a59e-2767948df1ad\">\n",
              "  <button class=\"colab-df-quickchart\" onclick=\"quickchart('df-326219ff-5bc0-474c-a59e-2767948df1ad')\"\n",
              "            title=\"Suggest charts.\"\n",
              "            style=\"display:none;\">\n",
              "\n",
              "<svg xmlns=\"http://www.w3.org/2000/svg\" height=\"24px\"viewBox=\"0 0 24 24\"\n",
              "     width=\"24px\">\n",
              "    <g>\n",
              "        <path d=\"M19 3H5c-1.1 0-2 .9-2 2v14c0 1.1.9 2 2 2h14c1.1 0 2-.9 2-2V5c0-1.1-.9-2-2-2zM9 17H7v-7h2v7zm4 0h-2V7h2v10zm4 0h-2v-4h2v4z\"/>\n",
              "    </g>\n",
              "</svg>\n",
              "  </button>\n",
              "\n",
              "<style>\n",
              "  .colab-df-quickchart {\n",
              "      --bg-color: #E8F0FE;\n",
              "      --fill-color: #1967D2;\n",
              "      --hover-bg-color: #E2EBFA;\n",
              "      --hover-fill-color: #174EA6;\n",
              "      --disabled-fill-color: #AAA;\n",
              "      --disabled-bg-color: #DDD;\n",
              "  }\n",
              "\n",
              "  [theme=dark] .colab-df-quickchart {\n",
              "      --bg-color: #3B4455;\n",
              "      --fill-color: #D2E3FC;\n",
              "      --hover-bg-color: #434B5C;\n",
              "      --hover-fill-color: #FFFFFF;\n",
              "      --disabled-bg-color: #3B4455;\n",
              "      --disabled-fill-color: #666;\n",
              "  }\n",
              "\n",
              "  .colab-df-quickchart {\n",
              "    background-color: var(--bg-color);\n",
              "    border: none;\n",
              "    border-radius: 50%;\n",
              "    cursor: pointer;\n",
              "    display: none;\n",
              "    fill: var(--fill-color);\n",
              "    height: 32px;\n",
              "    padding: 0;\n",
              "    width: 32px;\n",
              "  }\n",
              "\n",
              "  .colab-df-quickchart:hover {\n",
              "    background-color: var(--hover-bg-color);\n",
              "    box-shadow: 0 1px 2px rgba(60, 64, 67, 0.3), 0 1px 3px 1px rgba(60, 64, 67, 0.15);\n",
              "    fill: var(--button-hover-fill-color);\n",
              "  }\n",
              "\n",
              "  .colab-df-quickchart-complete:disabled,\n",
              "  .colab-df-quickchart-complete:disabled:hover {\n",
              "    background-color: var(--disabled-bg-color);\n",
              "    fill: var(--disabled-fill-color);\n",
              "    box-shadow: none;\n",
              "  }\n",
              "\n",
              "  .colab-df-spinner {\n",
              "    border: 2px solid var(--fill-color);\n",
              "    border-color: transparent;\n",
              "    border-bottom-color: var(--fill-color);\n",
              "    animation:\n",
              "      spin 1s steps(1) infinite;\n",
              "  }\n",
              "\n",
              "  @keyframes spin {\n",
              "    0% {\n",
              "      border-color: transparent;\n",
              "      border-bottom-color: var(--fill-color);\n",
              "      border-left-color: var(--fill-color);\n",
              "    }\n",
              "    20% {\n",
              "      border-color: transparent;\n",
              "      border-left-color: var(--fill-color);\n",
              "      border-top-color: var(--fill-color);\n",
              "    }\n",
              "    30% {\n",
              "      border-color: transparent;\n",
              "      border-left-color: var(--fill-color);\n",
              "      border-top-color: var(--fill-color);\n",
              "      border-right-color: var(--fill-color);\n",
              "    }\n",
              "    40% {\n",
              "      border-color: transparent;\n",
              "      border-right-color: var(--fill-color);\n",
              "      border-top-color: var(--fill-color);\n",
              "    }\n",
              "    60% {\n",
              "      border-color: transparent;\n",
              "      border-right-color: var(--fill-color);\n",
              "    }\n",
              "    80% {\n",
              "      border-color: transparent;\n",
              "      border-right-color: var(--fill-color);\n",
              "      border-bottom-color: var(--fill-color);\n",
              "    }\n",
              "    90% {\n",
              "      border-color: transparent;\n",
              "      border-bottom-color: var(--fill-color);\n",
              "    }\n",
              "  }\n",
              "</style>\n",
              "\n",
              "  <script>\n",
              "    async function quickchart(key) {\n",
              "      const quickchartButtonEl =\n",
              "        document.querySelector('#' + key + ' button');\n",
              "      quickchartButtonEl.disabled = true;  // To prevent multiple clicks.\n",
              "      quickchartButtonEl.classList.add('colab-df-spinner');\n",
              "      try {\n",
              "        const charts = await google.colab.kernel.invokeFunction(\n",
              "            'suggestCharts', [key], {});\n",
              "      } catch (error) {\n",
              "        console.error('Error during call to suggestCharts:', error);\n",
              "      }\n",
              "      quickchartButtonEl.classList.remove('colab-df-spinner');\n",
              "      quickchartButtonEl.classList.add('colab-df-quickchart-complete');\n",
              "    }\n",
              "    (() => {\n",
              "      let quickchartButtonEl =\n",
              "        document.querySelector('#df-326219ff-5bc0-474c-a59e-2767948df1ad button');\n",
              "      quickchartButtonEl.style.display =\n",
              "        google.colab.kernel.accessAllowed ? 'block' : 'none';\n",
              "    })();\n",
              "  </script>\n",
              "</div>\n",
              "    </div>\n",
              "  </div>\n"
            ]
          },
          "metadata": {},
          "execution_count": 14
        }
      ],
      "source": [
        "# check the condition of the data after normalization\n",
        "processed_dataset_final.head()"
      ]
    },
    {
      "cell_type": "code",
      "execution_count": 15,
      "id": "080b16c1",
      "metadata": {
        "colab": {
          "base_uri": "https://localhost:8080/",
          "height": 300
        },
        "id": "080b16c1",
        "outputId": "20d71cf0-b47f-4bdf-88a3-05f3d7a8f1d8"
      },
      "outputs": [
        {
          "output_type": "execute_result",
          "data": {
            "text/plain": [
              "                age           sex           bmi      children        smoker  \\\n",
              "count  1.338000e+03  1.338000e+03  1.338000e+03  1.338000e+03  1.338000e+03   \n",
              "mean  -1.672802e-16 -1.500212e-16 -2.124194e-16 -7.301915e-17  8.231250e-17   \n",
              "std    1.000000e+00  1.000000e+00  1.000000e+00  1.000000e+00  1.000000e+00   \n",
              "min   -1.509401e+00 -1.010141e+00 -2.411110e+00 -9.082741e-01 -5.072734e-01   \n",
              "25%   -8.688299e-01 -1.010141e+00 -7.161386e-01 -9.082741e-01 -5.072734e-01   \n",
              "50%   -1.473495e-02  9.892209e-01 -4.319265e-02 -7.873775e-02 -5.072734e-01   \n",
              "75%    8.393600e-01  9.892209e-01  6.609101e-01  7.507986e-01 -5.072734e-01   \n",
              "max    1.764630e+00  9.892209e-01  3.684145e+00  3.239407e+00  1.969850e+00   \n",
              "\n",
              "             region       charges  insuranceclaim  \n",
              "count  1.338000e+03  1.338000e+03     1338.000000  \n",
              "mean   3.518196e-17 -7.700202e-17        0.585202  \n",
              "std    1.000000e+00  1.000000e+00        0.492871  \n",
              "min   -1.371813e+00 -1.003182e+00        0.000000  \n",
              "25%   -4.667410e-01 -7.043871e-01        0.000000  \n",
              "50%    4.383307e-01 -3.210888e-01        1.000000  \n",
              "75%    4.383307e-01  2.782401e-01        1.000000  \n",
              "max    1.343402e+00  4.170104e+00        1.000000  "
            ],
            "text/html": [
              "\n",
              "  <div id=\"df-c99d74d7-35ea-42af-888e-7fc54fd027bd\" class=\"colab-df-container\">\n",
              "    <div>\n",
              "<style scoped>\n",
              "    .dataframe tbody tr th:only-of-type {\n",
              "        vertical-align: middle;\n",
              "    }\n",
              "\n",
              "    .dataframe tbody tr th {\n",
              "        vertical-align: top;\n",
              "    }\n",
              "\n",
              "    .dataframe thead th {\n",
              "        text-align: right;\n",
              "    }\n",
              "</style>\n",
              "<table border=\"1\" class=\"dataframe\">\n",
              "  <thead>\n",
              "    <tr style=\"text-align: right;\">\n",
              "      <th></th>\n",
              "      <th>age</th>\n",
              "      <th>sex</th>\n",
              "      <th>bmi</th>\n",
              "      <th>children</th>\n",
              "      <th>smoker</th>\n",
              "      <th>region</th>\n",
              "      <th>charges</th>\n",
              "      <th>insuranceclaim</th>\n",
              "    </tr>\n",
              "  </thead>\n",
              "  <tbody>\n",
              "    <tr>\n",
              "      <th>count</th>\n",
              "      <td>1.338000e+03</td>\n",
              "      <td>1.338000e+03</td>\n",
              "      <td>1.338000e+03</td>\n",
              "      <td>1.338000e+03</td>\n",
              "      <td>1.338000e+03</td>\n",
              "      <td>1.338000e+03</td>\n",
              "      <td>1.338000e+03</td>\n",
              "      <td>1338.000000</td>\n",
              "    </tr>\n",
              "    <tr>\n",
              "      <th>mean</th>\n",
              "      <td>-1.672802e-16</td>\n",
              "      <td>-1.500212e-16</td>\n",
              "      <td>-2.124194e-16</td>\n",
              "      <td>-7.301915e-17</td>\n",
              "      <td>8.231250e-17</td>\n",
              "      <td>3.518196e-17</td>\n",
              "      <td>-7.700202e-17</td>\n",
              "      <td>0.585202</td>\n",
              "    </tr>\n",
              "    <tr>\n",
              "      <th>std</th>\n",
              "      <td>1.000000e+00</td>\n",
              "      <td>1.000000e+00</td>\n",
              "      <td>1.000000e+00</td>\n",
              "      <td>1.000000e+00</td>\n",
              "      <td>1.000000e+00</td>\n",
              "      <td>1.000000e+00</td>\n",
              "      <td>1.000000e+00</td>\n",
              "      <td>0.492871</td>\n",
              "    </tr>\n",
              "    <tr>\n",
              "      <th>min</th>\n",
              "      <td>-1.509401e+00</td>\n",
              "      <td>-1.010141e+00</td>\n",
              "      <td>-2.411110e+00</td>\n",
              "      <td>-9.082741e-01</td>\n",
              "      <td>-5.072734e-01</td>\n",
              "      <td>-1.371813e+00</td>\n",
              "      <td>-1.003182e+00</td>\n",
              "      <td>0.000000</td>\n",
              "    </tr>\n",
              "    <tr>\n",
              "      <th>25%</th>\n",
              "      <td>-8.688299e-01</td>\n",
              "      <td>-1.010141e+00</td>\n",
              "      <td>-7.161386e-01</td>\n",
              "      <td>-9.082741e-01</td>\n",
              "      <td>-5.072734e-01</td>\n",
              "      <td>-4.667410e-01</td>\n",
              "      <td>-7.043871e-01</td>\n",
              "      <td>0.000000</td>\n",
              "    </tr>\n",
              "    <tr>\n",
              "      <th>50%</th>\n",
              "      <td>-1.473495e-02</td>\n",
              "      <td>9.892209e-01</td>\n",
              "      <td>-4.319265e-02</td>\n",
              "      <td>-7.873775e-02</td>\n",
              "      <td>-5.072734e-01</td>\n",
              "      <td>4.383307e-01</td>\n",
              "      <td>-3.210888e-01</td>\n",
              "      <td>1.000000</td>\n",
              "    </tr>\n",
              "    <tr>\n",
              "      <th>75%</th>\n",
              "      <td>8.393600e-01</td>\n",
              "      <td>9.892209e-01</td>\n",
              "      <td>6.609101e-01</td>\n",
              "      <td>7.507986e-01</td>\n",
              "      <td>-5.072734e-01</td>\n",
              "      <td>4.383307e-01</td>\n",
              "      <td>2.782401e-01</td>\n",
              "      <td>1.000000</td>\n",
              "    </tr>\n",
              "    <tr>\n",
              "      <th>max</th>\n",
              "      <td>1.764630e+00</td>\n",
              "      <td>9.892209e-01</td>\n",
              "      <td>3.684145e+00</td>\n",
              "      <td>3.239407e+00</td>\n",
              "      <td>1.969850e+00</td>\n",
              "      <td>1.343402e+00</td>\n",
              "      <td>4.170104e+00</td>\n",
              "      <td>1.000000</td>\n",
              "    </tr>\n",
              "  </tbody>\n",
              "</table>\n",
              "</div>\n",
              "    <div class=\"colab-df-buttons\">\n",
              "\n",
              "  <div class=\"colab-df-container\">\n",
              "    <button class=\"colab-df-convert\" onclick=\"convertToInteractive('df-c99d74d7-35ea-42af-888e-7fc54fd027bd')\"\n",
              "            title=\"Convert this dataframe to an interactive table.\"\n",
              "            style=\"display:none;\">\n",
              "\n",
              "  <svg xmlns=\"http://www.w3.org/2000/svg\" height=\"24px\" viewBox=\"0 -960 960 960\">\n",
              "    <path d=\"M120-120v-720h720v720H120Zm60-500h600v-160H180v160Zm220 220h160v-160H400v160Zm0 220h160v-160H400v160ZM180-400h160v-160H180v160Zm440 0h160v-160H620v160ZM180-180h160v-160H180v160Zm440 0h160v-160H620v160Z\"/>\n",
              "  </svg>\n",
              "    </button>\n",
              "\n",
              "  <style>\n",
              "    .colab-df-container {\n",
              "      display:flex;\n",
              "      gap: 12px;\n",
              "    }\n",
              "\n",
              "    .colab-df-convert {\n",
              "      background-color: #E8F0FE;\n",
              "      border: none;\n",
              "      border-radius: 50%;\n",
              "      cursor: pointer;\n",
              "      display: none;\n",
              "      fill: #1967D2;\n",
              "      height: 32px;\n",
              "      padding: 0 0 0 0;\n",
              "      width: 32px;\n",
              "    }\n",
              "\n",
              "    .colab-df-convert:hover {\n",
              "      background-color: #E2EBFA;\n",
              "      box-shadow: 0px 1px 2px rgba(60, 64, 67, 0.3), 0px 1px 3px 1px rgba(60, 64, 67, 0.15);\n",
              "      fill: #174EA6;\n",
              "    }\n",
              "\n",
              "    .colab-df-buttons div {\n",
              "      margin-bottom: 4px;\n",
              "    }\n",
              "\n",
              "    [theme=dark] .colab-df-convert {\n",
              "      background-color: #3B4455;\n",
              "      fill: #D2E3FC;\n",
              "    }\n",
              "\n",
              "    [theme=dark] .colab-df-convert:hover {\n",
              "      background-color: #434B5C;\n",
              "      box-shadow: 0px 1px 3px 1px rgba(0, 0, 0, 0.15);\n",
              "      filter: drop-shadow(0px 1px 2px rgba(0, 0, 0, 0.3));\n",
              "      fill: #FFFFFF;\n",
              "    }\n",
              "  </style>\n",
              "\n",
              "    <script>\n",
              "      const buttonEl =\n",
              "        document.querySelector('#df-c99d74d7-35ea-42af-888e-7fc54fd027bd button.colab-df-convert');\n",
              "      buttonEl.style.display =\n",
              "        google.colab.kernel.accessAllowed ? 'block' : 'none';\n",
              "\n",
              "      async function convertToInteractive(key) {\n",
              "        const element = document.querySelector('#df-c99d74d7-35ea-42af-888e-7fc54fd027bd');\n",
              "        const dataTable =\n",
              "          await google.colab.kernel.invokeFunction('convertToInteractive',\n",
              "                                                    [key], {});\n",
              "        if (!dataTable) return;\n",
              "\n",
              "        const docLinkHtml = 'Like what you see? Visit the ' +\n",
              "          '<a target=\"_blank\" href=https://colab.research.google.com/notebooks/data_table.ipynb>data table notebook</a>'\n",
              "          + ' to learn more about interactive tables.';\n",
              "        element.innerHTML = '';\n",
              "        dataTable['output_type'] = 'display_data';\n",
              "        await google.colab.output.renderOutput(dataTable, element);\n",
              "        const docLink = document.createElement('div');\n",
              "        docLink.innerHTML = docLinkHtml;\n",
              "        element.appendChild(docLink);\n",
              "      }\n",
              "    </script>\n",
              "  </div>\n",
              "\n",
              "\n",
              "<div id=\"df-94c0ebf9-6e44-4e4d-b7de-109a6116f200\">\n",
              "  <button class=\"colab-df-quickchart\" onclick=\"quickchart('df-94c0ebf9-6e44-4e4d-b7de-109a6116f200')\"\n",
              "            title=\"Suggest charts.\"\n",
              "            style=\"display:none;\">\n",
              "\n",
              "<svg xmlns=\"http://www.w3.org/2000/svg\" height=\"24px\"viewBox=\"0 0 24 24\"\n",
              "     width=\"24px\">\n",
              "    <g>\n",
              "        <path d=\"M19 3H5c-1.1 0-2 .9-2 2v14c0 1.1.9 2 2 2h14c1.1 0 2-.9 2-2V5c0-1.1-.9-2-2-2zM9 17H7v-7h2v7zm4 0h-2V7h2v10zm4 0h-2v-4h2v4z\"/>\n",
              "    </g>\n",
              "</svg>\n",
              "  </button>\n",
              "\n",
              "<style>\n",
              "  .colab-df-quickchart {\n",
              "      --bg-color: #E8F0FE;\n",
              "      --fill-color: #1967D2;\n",
              "      --hover-bg-color: #E2EBFA;\n",
              "      --hover-fill-color: #174EA6;\n",
              "      --disabled-fill-color: #AAA;\n",
              "      --disabled-bg-color: #DDD;\n",
              "  }\n",
              "\n",
              "  [theme=dark] .colab-df-quickchart {\n",
              "      --bg-color: #3B4455;\n",
              "      --fill-color: #D2E3FC;\n",
              "      --hover-bg-color: #434B5C;\n",
              "      --hover-fill-color: #FFFFFF;\n",
              "      --disabled-bg-color: #3B4455;\n",
              "      --disabled-fill-color: #666;\n",
              "  }\n",
              "\n",
              "  .colab-df-quickchart {\n",
              "    background-color: var(--bg-color);\n",
              "    border: none;\n",
              "    border-radius: 50%;\n",
              "    cursor: pointer;\n",
              "    display: none;\n",
              "    fill: var(--fill-color);\n",
              "    height: 32px;\n",
              "    padding: 0;\n",
              "    width: 32px;\n",
              "  }\n",
              "\n",
              "  .colab-df-quickchart:hover {\n",
              "    background-color: var(--hover-bg-color);\n",
              "    box-shadow: 0 1px 2px rgba(60, 64, 67, 0.3), 0 1px 3px 1px rgba(60, 64, 67, 0.15);\n",
              "    fill: var(--button-hover-fill-color);\n",
              "  }\n",
              "\n",
              "  .colab-df-quickchart-complete:disabled,\n",
              "  .colab-df-quickchart-complete:disabled:hover {\n",
              "    background-color: var(--disabled-bg-color);\n",
              "    fill: var(--disabled-fill-color);\n",
              "    box-shadow: none;\n",
              "  }\n",
              "\n",
              "  .colab-df-spinner {\n",
              "    border: 2px solid var(--fill-color);\n",
              "    border-color: transparent;\n",
              "    border-bottom-color: var(--fill-color);\n",
              "    animation:\n",
              "      spin 1s steps(1) infinite;\n",
              "  }\n",
              "\n",
              "  @keyframes spin {\n",
              "    0% {\n",
              "      border-color: transparent;\n",
              "      border-bottom-color: var(--fill-color);\n",
              "      border-left-color: var(--fill-color);\n",
              "    }\n",
              "    20% {\n",
              "      border-color: transparent;\n",
              "      border-left-color: var(--fill-color);\n",
              "      border-top-color: var(--fill-color);\n",
              "    }\n",
              "    30% {\n",
              "      border-color: transparent;\n",
              "      border-left-color: var(--fill-color);\n",
              "      border-top-color: var(--fill-color);\n",
              "      border-right-color: var(--fill-color);\n",
              "    }\n",
              "    40% {\n",
              "      border-color: transparent;\n",
              "      border-right-color: var(--fill-color);\n",
              "      border-top-color: var(--fill-color);\n",
              "    }\n",
              "    60% {\n",
              "      border-color: transparent;\n",
              "      border-right-color: var(--fill-color);\n",
              "    }\n",
              "    80% {\n",
              "      border-color: transparent;\n",
              "      border-right-color: var(--fill-color);\n",
              "      border-bottom-color: var(--fill-color);\n",
              "    }\n",
              "    90% {\n",
              "      border-color: transparent;\n",
              "      border-bottom-color: var(--fill-color);\n",
              "    }\n",
              "  }\n",
              "</style>\n",
              "\n",
              "  <script>\n",
              "    async function quickchart(key) {\n",
              "      const quickchartButtonEl =\n",
              "        document.querySelector('#' + key + ' button');\n",
              "      quickchartButtonEl.disabled = true;  // To prevent multiple clicks.\n",
              "      quickchartButtonEl.classList.add('colab-df-spinner');\n",
              "      try {\n",
              "        const charts = await google.colab.kernel.invokeFunction(\n",
              "            'suggestCharts', [key], {});\n",
              "      } catch (error) {\n",
              "        console.error('Error during call to suggestCharts:', error);\n",
              "      }\n",
              "      quickchartButtonEl.classList.remove('colab-df-spinner');\n",
              "      quickchartButtonEl.classList.add('colab-df-quickchart-complete');\n",
              "    }\n",
              "    (() => {\n",
              "      let quickchartButtonEl =\n",
              "        document.querySelector('#df-94c0ebf9-6e44-4e4d-b7de-109a6116f200 button');\n",
              "      quickchartButtonEl.style.display =\n",
              "        google.colab.kernel.accessAllowed ? 'block' : 'none';\n",
              "    })();\n",
              "  </script>\n",
              "</div>\n",
              "    </div>\n",
              "  </div>\n"
            ]
          },
          "metadata": {},
          "execution_count": 15
        }
      ],
      "source": [
        "# see the distribution of statistical data after normalization\n",
        "processed_dataset_final.describe()"
      ]
    },
    {
      "cell_type": "markdown",
      "id": "3f8e625b",
      "metadata": {
        "id": "3f8e625b"
      },
      "source": [
        "After normalizing the data, each variable in the data has a similar range of values.\n",
        "\n"
      ]
    },
    {
      "cell_type": "code",
      "execution_count": 16,
      "id": "6b1175d8",
      "metadata": {
        "colab": {
          "base_uri": "https://localhost:8080/",
          "height": 1000
        },
        "id": "6b1175d8",
        "outputId": "19c3e114-ee6f-4223-d28e-a6b7eb7b7308"
      },
      "outputs": [
        {
          "output_type": "display_data",
          "data": {
            "text/plain": [
              "<Figure size 2000x2000 with 9 Axes>"
            ],
            "image/png": "[encoded data removed]"
          },
          "metadata": {}
        }
      ],
      "source": [
        "# see the histogram of each variable\n",
        "x = processed_dataset_final.hist(figsize = (20,20))"
      ]
    },
    {
      "cell_type": "markdown",
      "id": "12f31042",
      "metadata": {
        "id": "12f31042"
      },
      "source": [
        "From the output above, most variables do not have a normal distribution, with the exception of the variable `bmi` which has a distribution that resembles a normal distribution."
      ]
    },
    {
      "cell_type": "markdown",
      "id": "0ebe569c",
      "metadata": {
        "id": "0ebe569c"
      },
      "source": [
        "#### Exploration of Categorical Variables"
      ]
    },
    {
      "cell_type": "markdown",
      "id": "wWHh3k_ZgVk6",
      "metadata": {
        "id": "wWHh3k_ZgVk6"
      },
      "source": [
        "##### Variabel `InsuranceClaim`"
      ]
    },
    {
      "cell_type": "code",
      "execution_count": null,
      "id": "8fd2d2bd",
      "metadata": {
        "colab": {
          "base_uri": "https://localhost:8080/",
          "height": 477
        },
        "id": "8fd2d2bd",
        "outputId": "7ed0a214-a4d5-48c1-8e46-5d7136f3a030"
      },
      "outputs": [
        {
          "name": "stdout",
          "output_type": "stream",
          "text": [
            "1    783\n",
            "0    555\n",
            "Name: insuranceclaim, dtype: int64\n"
          ]
        },
        {
          "data": {
            "image/png": "[encoded data removed]",
            "text/plain": [
              "<Figure size 640x480 with 1 Axes>"
            ]
          },
          "metadata": {},
          "output_type": "display_data"
        }
      ],
      "source": [
        "color_wheel = {1: \"#0392cf\", 2: \"#7bc043\"}\n",
        "colors = data[\"insuranceclaim\"].map(lambda x: color_wheel.get(x + 1))\n",
        "print(processed_dataset_final.insuranceclaim.value_counts())\n",
        "z = processed_dataset_final.insuranceclaim.value_counts().plot(kind=\"bar\")"
      ]
    },
    {
      "cell_type": "markdown",
      "id": "ba4eba4d",
      "metadata": {
        "id": "ba4eba4d"
      },
      "source": [
        "The value of the dependent variable in this data or the `insuranceclaim` variable has unequal proportions. There were 783 policy holders who claimed insurance, while there were 555 people who did not claim insurance (more policy holders claimed insurance)."
      ]
    },
    {
      "cell_type": "markdown",
      "id": "y4w8XUxBgbTt",
      "metadata": {
        "id": "y4w8XUxBgbTt"
      },
      "source": [
        "##### Variabel `sex`"
      ]
    },
    {
      "cell_type": "code",
      "execution_count": null,
      "id": "d92932d6",
      "metadata": {
        "colab": {
          "base_uri": "https://localhost:8080/",
          "height": 502
        },
        "id": "d92932d6",
        "outputId": "152bb61d-d7e2-4be9-fd6a-79c8130f6d83"
      },
      "outputs": [
        {
          "name": "stdout",
          "output_type": "stream",
          "text": [
            "1    676\n",
            "0    662\n",
            "Name: sex, dtype: int64\n"
          ]
        },
        {
          "data": {
            "image/png": "[encoded data removed]",
            "text/plain": [
              "<Figure size 640x480 with 1 Axes>"
            ]
          },
          "metadata": {},
          "output_type": "display_data"
        }
      ],
      "source": [
        "print(data.sex.value_counts())\n",
        "ax = sns.countplot(x ='sex', data = data)\n",
        "ax.set_xlabel('sex')\n",
        "plt.show()"
      ]
    },
    {
      "cell_type": "markdown",
      "id": "00ccd7dc",
      "metadata": {
        "id": "00ccd7dc"
      },
      "source": [
        "The value of the `sex` variable has a fairly balanced proportion. There are 662 female policyholders and 676 male policyholders."
      ]
    },
    {
      "cell_type": "markdown",
      "id": "2g4-cjXLgc2x",
      "metadata": {
        "id": "2g4-cjXLgc2x"
      },
      "source": [
        "##### Variabel `smoker`"
      ]
    },
    {
      "cell_type": "code",
      "execution_count": null,
      "id": "4a4d6d2d",
      "metadata": {
        "colab": {
          "base_uri": "https://localhost:8080/",
          "height": 501
        },
        "id": "4a4d6d2d",
        "outputId": "afd481ce-697c-439d-96f6-548c975af5b8"
      },
      "outputs": [
        {
          "name": "stdout",
          "output_type": "stream",
          "text": [
            "0    1064\n",
            "1     274\n",
            "Name: smoker, dtype: int64\n"
          ]
        },
        {
          "data": {
            "image/png": "[encoded data removed]",
            "text/plain": [
              "<Figure size 640x480 with 1 Axes>"
            ]
          },
          "metadata": {},
          "output_type": "display_data"
        }
      ],
      "source": [
        "print(data.smoker.value_counts())\n",
        "ax = sns.countplot(x ='smoker', data = data)\n",
        "ax.set_xlabel('smoker')\n",
        "plt.show()"
      ]
    },
    {
      "cell_type": "markdown",
      "id": "ffee816c",
      "metadata": {
        "id": "ffee816c"
      },
      "source": [
        "In this dataset, there are 1064 policyholders who do not smoke and 274 policyholders who smoke."
      ]
    },
    {
      "cell_type": "markdown",
      "id": "XoXsmlUJgem7",
      "metadata": {
        "id": "XoXsmlUJgem7"
      },
      "source": [
        "##### Variabel `region`"
      ]
    },
    {
      "cell_type": "code",
      "execution_count": null,
      "id": "bc6d2d53",
      "metadata": {
        "colab": {
          "base_uri": "https://localhost:8080/",
          "height": 536
        },
        "id": "bc6d2d53",
        "outputId": "dbf879e4-2c7a-4beb-b18a-2f48e93dc7e0"
      },
      "outputs": [
        {
          "name": "stdout",
          "output_type": "stream",
          "text": [
            "2    364\n",
            "3    325\n",
            "1    325\n",
            "0    324\n",
            "Name: region, dtype: int64\n"
          ]
        },
        {
          "data": {
            "image/png": "[encoded data removed]",
            "text/plain": [
              "<Figure size 640x480 with 1 Axes>"
            ]
          },
          "metadata": {},
          "output_type": "display_data"
        }
      ],
      "source": [
        "print(data.region.value_counts())\n",
        "ax = sns.countplot(x ='region', data = data)\n",
        "ax.set_xlabel('region')\n",
        "plt.show()"
      ]
    },
    {
      "cell_type": "markdown",
      "id": "9dfee2dc",
      "metadata": {
        "id": "9dfee2dc"
      },
      "source": [
        "In this dataset, there are 364 policyholders living in the southeast region, 325 policyholders living in the southwest region, 325 policyholders living in the northwest region, and 324 policyholders living in the northeast region."
      ]
    },
    {
      "cell_type": "markdown",
      "id": "6782ee33",
      "metadata": {
        "id": "6782ee33"
      },
      "source": [
        "#### Exploration of numeric variables"
      ]
    },
    {
      "cell_type": "code",
      "execution_count": null,
      "id": "9710dbaf",
      "metadata": {
        "colab": {
          "base_uri": "https://localhost:8080/",
          "height": 1000
        },
        "id": "9710dbaf",
        "outputId": "d8cf9ebb-6912-42e1-fd9a-1f3444e46d19"
      },
      "outputs": [
        {
          "data": {
            "image/png": "[encoded data removed]",
            "text/plain": [
              "<Figure size 640x480 with 1 Axes>"
            ]
          },
          "metadata": {},
          "output_type": "display_data"
        },
        {
          "data": {
            "image/png": "[encoded data removed]",
            "text/plain": [
              "<Figure size 640x480 with 1 Axes>"
            ]
          },
          "metadata": {},
          "output_type": "display_data"
        },
        {
          "data": {
            "image/png": "[encoded data removed]",
            "text/plain": [
              "<Figure size 640x480 with 1 Axes>"
            ]
          },
          "metadata": {},
          "output_type": "display_data"
        },
        {
          "data": {
            "image/png": "[encoded data removed]",
            "text/plain": [
              "<Figure size 640x480 with 1 Axes>"
            ]
          },
          "metadata": {},
          "output_type": "display_data"
        }
      ],
      "source": [
        "# look at the boxplot on each numeric variable\n",
        "numerical_columns = processed_dataset_final[['age','bmi','children','charges']]\n",
        "for i in numerical_columns.columns:\n",
        "    sns.boxplot(data= numerical_columns[i])\n",
        "    plt.title(i)\n",
        "    plt.show()"
      ]
    },
    {
      "cell_type": "markdown",
      "id": "447c6e5d",
      "metadata": {
        "id": "447c6e5d"
      },
      "source": [
        "From the output above, the results show that there are outliers in the `charges` and `bmi` variables. However, these outliers are still considered reasonable, which means that in this dataset there are policyholders who have a \"BMI\" more than the average (obesity) and there are policyholders who have medical bills that are more than the average should be (may be experiencing something conditions that cause the policy holder to have medical treatment that requires a lot of money, for example being seriously ill, etc.)"
      ]
    },
    {
      "cell_type": "markdown",
      "id": "04e28974",
      "metadata": {
        "id": "04e28974"
      },
      "source": [
        "### **Data Splitting**"
      ]
    },
    {
      "cell_type": "code",
      "execution_count": null,
      "id": "e18abce8",
      "metadata": {
        "id": "e18abce8"
      },
      "outputs": [],
      "source": [
        "# import library required for data splitting\n",
        "import tensorflow as tf\n",
        "from sklearn.model_selection import train_test_split\n",
        "\n",
        "# takes all independent columns with indices 0-6 and puts them into variable x\n",
        "x = processed_dataset_final[processed_dataset_final.columns[0:7]].values\n",
        "# takes the dependent column with the 7th index and puts it in the y variable\n",
        "y = processed_dataset_final[processed_dataset_final.columns[7]].values\n",
        "y = tf.keras.utils.to_categorical(y)"
      ]
    },
    {
      "cell_type": "code",
      "execution_count": null,
      "id": "4ee09d9d",
      "metadata": {
        "colab": {
          "base_uri": "https://localhost:8080/"
        },
        "id": "4ee09d9d",
        "outputId": "8382c44c-a1d0-489e-caa4-aee3e0b4c477"
      },
      "outputs": [
        {
          "name": "stdout",
          "output_type": "stream",
          "text": [
            "x_train:  1070 data\n",
            "x_val:  134 data\n",
            "x_test:  134 data\n",
            "===================\n",
            "y_train:  1070 data\n",
            "y_val:  134 data\n",
            "y_test:  134 data\n"
          ]
        }
      ],
      "source": [
        "# split the data into training set 80%, validation set 10% and testing set 10%\n",
        "train_size = 0.80\n",
        "val_size = 0.10\n",
        "test_size = 0.10\n",
        "x_train, x_test, y_train, y_test = train_test_split(x, y, test_size= 1-train_size, random_state = 111)\n",
        "x_val, x_test, y_val, y_test = train_test_split(x_test, y_test, test_size= test_size/(val_size+test_size), random_state = 111)\n",
        "\n",
        "# check the size of each training, validation and testing set\n",
        "print('x_train: ',len(x_train), \"data\")\n",
        "print('x_val: ',len(x_val), \"data\")\n",
        "print('x_test: ', len(x_test), \"data\")\n",
        "print('===================')\n",
        "print('y_train: ',len(y_train), \"data\")\n",
        "print('y_val: ',len(y_val), \"data\")\n",
        "print('y_test: ', len(y_test), \"data\")"
      ]
    },
    {
      "cell_type": "markdown",
      "source": [
        "### **Modeling**"
      ],
      "metadata": {
        "id": "Z-lczD5FEa9H"
      },
      "id": "Z-lczD5FEa9H"
    },
    {
      "cell_type": "markdown",
      "source": [
        "Hereby, I create a model 1 with 7 inputs, 2 hidden layers with 2*7 nodes each, and 2 output layers. With Relu as activation function on each hidden layer and output layer\n",
        "\n",
        "This model 1 is stored in a variable named `arsitektur_baseline`"
      ],
      "metadata": {
        "id": "QZ0is4WuLnuL"
      },
      "id": "QZ0is4WuLnuL"
    },
    {
      "cell_type": "code",
      "execution_count": null,
      "id": "6cd1e5f0",
      "metadata": {
        "id": "6cd1e5f0"
      },
      "outputs": [],
      "source": [
        "# import the required libraries\n",
        "import tensorflow as tf\n",
        "from tensorflow import keras\n",
        "\n",
        "arsitektur_baseline = keras.Sequential([\n",
        "    keras.layers.Dense(14, activation=tf.nn.relu, input_shape=(7,)),\n",
        "    keras.layers.Dense(14, activation=tf.nn.relu),\n",
        "    keras.layers.Dense(2, activation=tf.nn.relu)\n",
        "])"
      ]
    },
    {
      "cell_type": "code",
      "execution_count": null,
      "id": "5364021d",
      "metadata": {
        "colab": {
          "base_uri": "https://localhost:8080/"
        },
        "id": "5364021d",
        "outputId": "de843179-eb99-415e-fd84-5c930909de02"
      },
      "outputs": [
        {
          "name": "stdout",
          "output_type": "stream",
          "text": [
            "Epoch 1/5\n",
            "67/67 [==============================] - 1s 2ms/step - loss: 0.6983 - accuracy: 0.5065\n",
            "Epoch 2/5\n",
            "67/67 [==============================] - 0s 2ms/step - loss: 0.6875 - accuracy: 0.5299\n",
            "Epoch 3/5\n",
            "67/67 [==============================] - 0s 2ms/step - loss: 0.6825 - accuracy: 0.5533\n",
            "Epoch 4/5\n",
            "67/67 [==============================] - 0s 2ms/step - loss: 0.6791 - accuracy: 0.5720\n",
            "Epoch 5/5\n",
            "67/67 [==============================] - 0s 2ms/step - loss: 0.6756 - accuracy: 0.5897\n"
          ]
        },
        {
          "data": {
            "text/plain": [
              "<keras.callbacks.History at 0x7f739d061510>"
            ]
          },
          "execution_count": 22,
          "metadata": {},
          "output_type": "execute_result"
        }
      ],
      "source": [
        "# compile `arsitektur_baseline` model\n",
        "arsitektur_baseline.compile(loss=tf.keras.losses.BinaryCrossentropy(from_logits=True), optimizer=tf.optimizers.SGD(learning_rate = 0.01), metrics=[\"accuracy\"])\n",
        "# fit `arsitektur_baseline` model on the data training\n",
        "arsitektur_baseline.fit(x_train, y_train, epochs=5, batch_size=16)"
      ]
    },
    {
      "cell_type": "code",
      "execution_count": null,
      "id": "40c8638f",
      "metadata": {
        "colab": {
          "base_uri": "https://localhost:8080/"
        },
        "id": "40c8638f",
        "outputId": "12003771-19ce-4b7d-ae09-ff4b7bafc9a1"
      },
      "outputs": [
        {
          "name": "stdout",
          "output_type": "stream",
          "text": [
            "5/5 [==============================] - 0s 3ms/step - loss: 0.6707 - accuracy: 0.6119\n",
            "[test loss, test accuracy]: [0.6706939935684204, 0.611940324306488]\n"
          ]
        }
      ],
      "source": [
        "# see the performance of the `arsitektur_baseline` model on data testing\n",
        "arsitektur_baseline_result = arsitektur_baseline.evaluate(x_test, y_test)\n",
        "print(\"[test loss, test accuracy]:\", arsitektur_baseline_result)"
      ]
    },
    {
      "cell_type": "markdown",
      "id": "d89ba514",
      "metadata": {
        "id": "d89ba514"
      },
      "source": [
        "Model 1 or `arsitektur_baseline` model has an accuracy of around 61% on testing data"
      ]
    },
    {
      "cell_type": "markdown",
      "id": "lZ7GfPr8Cri7",
      "metadata": {
        "id": "lZ7GfPr8Cri7"
      },
      "source": [
        "The following is an overview of the neural network from the model 1:"
      ]
    },
    {
      "cell_type": "code",
      "execution_count": null,
      "id": "oA-IgMqtpav8",
      "metadata": {
        "colab": {
          "base_uri": "https://localhost:8080/",
          "height": 474
        },
        "id": "oA-IgMqtpav8",
        "outputId": "20ce1575-7f70-4f5d-e04a-154291d88db9"
      },
      "outputs": [
        {
          "name": "stdout",
          "output_type": "stream",
          "text": [
            "Looking in indexes: https://pypi.org/simple, https://us-python.pkg.dev/colab-wheels/public/simple/\n",
            "Requirement already satisfied: pydot in /usr/local/lib/python3.10/dist-packages (1.4.2)\n",
            "Requirement already satisfied: pyparsing>=2.1.4 in /usr/local/lib/python3.10/dist-packages (from pydot) (3.0.9)\n"
          ]
        },
        {
          "data": {
            "image/png": "[encoded data removed]",
            "text/plain": [
              "<IPython.core.display.Image object>"
            ]
          },
          "execution_count": 24,
          "metadata": {},
          "output_type": "execute_result"
        }
      ],
      "source": [
        "!pip install pydot\n",
        "tf.keras.utils.plot_model(arsitektur_baseline, to_file = 'baseline.png', show_shapes = True, show_layer_names = True)"
      ]
    },
    {
      "cell_type": "markdown",
      "id": "SZdmgdf4FTQ8",
      "metadata": {
        "id": "SZdmgdf4FTQ8"
      },
      "source": [
        "Model 1 has 1 input layer with 7 nodes. Then it has 2 hidden layers with 14 nodes each and 1 output layer with 2 nodes. The baseline architecture uses the ReLu activation function on each layer."
      ]
    },
    {
      "cell_type": "markdown",
      "id": "3d0c8915",
      "metadata": {
        "id": "3d0c8915"
      },
      "source": [
        "### **Tuning the Model**"
      ]
    },
    {
      "cell_type": "code",
      "execution_count": null,
      "id": "3835f87d",
      "metadata": {
        "id": "3835f87d"
      },
      "outputs": [],
      "source": [
        "# create a function to perform tuning\n",
        "def build_model(hp_tune):\n",
        "    # Enter 7 input layers and 14 hidden layers\n",
        "    model = keras.models.Sequential([keras.layers.Dense(14, activation=tf.nn.relu, input_shape=(7,))])\n",
        "    # next hidden layer tuning from 1-6: tuning the number of layers and the number of nodes per layer with a value between 4 to 64 in multiples of 4\n",
        "    for i in range(hp_tune.Int('num_layers',1,6)):\n",
        "      model.add(keras.layers.Dense(hp_tune.Int(f'node_layer{i}', min_value=4, max_value=64, step=4), activation=tf.nn.relu))\n",
        "    # tuning activation function on output layer with relu or softmax\n",
        "    model.add(keras.layers.Dense(2, activation=hp_tune.Choice('out_activation',['relu', 'softmax'])))\n",
        "    # tuning learning rate between 0.0001 to 0.1\n",
        "    model.compile(loss=tf.keras.losses.BinaryCrossentropy(from_logits=True),\n",
        "                  optimizer=tf.optimizers.SGD(learning_rate=hp_tune.Float(\"lr\", min_value=1e-4, max_value=0.1, sampling='log')), metrics=[\"accuracy\"])\n",
        "    return model"
      ]
    },
    {
      "cell_type": "code",
      "execution_count": null,
      "id": "14c2b604",
      "metadata": {
        "colab": {
          "base_uri": "https://localhost:8080/"
        },
        "id": "14c2b604",
        "outputId": "2e2f5445-87b6-42a0-951f-5f79cf7cf661"
      },
      "outputs": [
        {
          "name": "stdout",
          "output_type": "stream",
          "text": [
            "Trial 90 Complete [00h 00m 11s]\n",
            "val_accuracy: 0.7985074520111084\n",
            "\n",
            "Best val_accuracy So Far: 0.9701492786407471\n",
            "Total elapsed time: 00h 05m 06s\n"
          ]
        }
      ],
      "source": [
        "!pip install keras-tuner\n",
        "import keras_tuner\n",
        "\n",
        "# looking for the best value from the tuning results\n",
        "tuner = keras_tuner.Hyperband(\n",
        "    hypermodel=build_model,\n",
        "    objective=\"val_accuracy\",\n",
        "    max_epochs=50,\n",
        "    directory=\"tuning_model10\",\n",
        "    project_name=\"tuning_model10\",\n",
        ")\n",
        "\n",
        "tuner.search(x_train, y_train,validation_data=(x_val, y_val))"
      ]
    },
    {
      "cell_type": "markdown",
      "id": "QNgmsyaKhycp",
      "metadata": {
        "id": "QNgmsyaKhycp"
      },
      "source": [
        "The best accuracy value for data validation using the new hyperparameters is around 97%."
      ]
    },
    {
      "cell_type": "code",
      "execution_count": null,
      "id": "e7f9ae4a",
      "metadata": {
        "colab": {
          "base_uri": "https://localhost:8080/"
        },
        "id": "e7f9ae4a",
        "outputId": "a03121fd-350a-4b07-a3a2-b7dfe6836e1e"
      },
      "outputs": [
        {
          "name": "stdout",
          "output_type": "stream",
          "text": [
            "\n",
            "num hidden layers: 1\n",
            "lr: 0.08010397509696619\n",
            "out_activation: softmax\n",
            "nodes: ['hidden layer 0: 36']\n",
            "\n"
          ]
        }
      ],
      "source": [
        "# looking for the best parameter results that can be used by the model in order to produce high accuracy\n",
        "best_hps=tuner.get_best_hyperparameters(num_trials=1)[0]\n",
        "print(f\"\"\"\n",
        "num hidden layers: {best_hps.get('num_layers')}\n",
        "lr: {best_hps.get('lr')}\n",
        "out_activation: {best_hps.get('out_activation')}\n",
        "nodes: {[f\"hidden layer {x}: {best_hps.get(f'node_layer{x}')}\" for x in range(best_hps.get('num_layers'))]}\n",
        "\"\"\")"
      ]
    },
    {
      "cell_type": "markdown",
      "id": "8f704e4c",
      "metadata": {
        "id": "8f704e4c"
      },
      "source": [
        "After tuning, the results obtained are:\n",
        "- The next number of hidden layers (after the 14 input layers and hidden layers) is 1 with 36 nodes.\n",
        "- A good learning rate to use is 0.08\n",
        "- The activation function on the output layer should use softmax and not Relu"
      ]
    },
    {
      "cell_type": "code",
      "execution_count": null,
      "id": "d44944c0",
      "metadata": {
        "colab": {
          "base_uri": "https://localhost:8080/"
        },
        "id": "d44944c0",
        "outputId": "59e776d7-1fd0-4619-ea1c-0ecf7149087f"
      },
      "outputs": [
        {
          "name": "stdout",
          "output_type": "stream",
          "text": [
            "Epoch 1/50\n",
            "34/34 [==============================] - 1s 8ms/step - loss: 0.6518 - accuracy: 0.6617 - val_loss: 0.5994 - val_accuracy: 0.7537\n",
            "Epoch 2/50\n",
            "34/34 [==============================] - 0s 3ms/step - loss: 0.5722 - accuracy: 0.7561 - val_loss: 0.5208 - val_accuracy: 0.7836\n",
            "Epoch 3/50\n",
            "34/34 [==============================] - 0s 3ms/step - loss: 0.4895 - accuracy: 0.8196 - val_loss: 0.4407 - val_accuracy: 0.8433\n",
            "Epoch 4/50\n",
            "34/34 [==============================] - 0s 3ms/step - loss: 0.4163 - accuracy: 0.8551 - val_loss: 0.3765 - val_accuracy: 0.8657\n",
            "Epoch 5/50\n",
            "34/34 [==============================] - 0s 3ms/step - loss: 0.3692 - accuracy: 0.8710 - val_loss: 0.3324 - val_accuracy: 0.8955\n",
            "Epoch 6/50\n",
            "34/34 [==============================] - 0s 6ms/step - loss: 0.3387 - accuracy: 0.8804 - val_loss: 0.3040 - val_accuracy: 0.9030\n",
            "Epoch 7/50\n",
            "34/34 [==============================] - 0s 4ms/step - loss: 0.3196 - accuracy: 0.8963 - val_loss: 0.2821 - val_accuracy: 0.8881\n",
            "Epoch 8/50\n",
            "34/34 [==============================] - 0s 3ms/step - loss: 0.3061 - accuracy: 0.9009 - val_loss: 0.2652 - val_accuracy: 0.8955\n",
            "Epoch 9/50\n",
            "34/34 [==============================] - 0s 3ms/step - loss: 0.2969 - accuracy: 0.8963 - val_loss: 0.2522 - val_accuracy: 0.9030\n",
            "Epoch 10/50\n",
            "34/34 [==============================] - 0s 3ms/step - loss: 0.2873 - accuracy: 0.9037 - val_loss: 0.2402 - val_accuracy: 0.9254\n",
            "Epoch 11/50\n",
            "34/34 [==============================] - 0s 3ms/step - loss: 0.2813 - accuracy: 0.9019 - val_loss: 0.2331 - val_accuracy: 0.9328\n",
            "Epoch 12/50\n",
            "34/34 [==============================] - 0s 3ms/step - loss: 0.2742 - accuracy: 0.9075 - val_loss: 0.2246 - val_accuracy: 0.9328\n",
            "Epoch 13/50\n",
            "34/34 [==============================] - 0s 3ms/step - loss: 0.2705 - accuracy: 0.9037 - val_loss: 0.2199 - val_accuracy: 0.9328\n",
            "Epoch 14/50\n",
            "34/34 [==============================] - 0s 3ms/step - loss: 0.2650 - accuracy: 0.9121 - val_loss: 0.2133 - val_accuracy: 0.9403\n",
            "Epoch 15/50\n",
            "34/34 [==============================] - 0s 3ms/step - loss: 0.2618 - accuracy: 0.9075 - val_loss: 0.2104 - val_accuracy: 0.9328\n",
            "Epoch 16/50\n",
            "34/34 [==============================] - 0s 3ms/step - loss: 0.2584 - accuracy: 0.9103 - val_loss: 0.2049 - val_accuracy: 0.9403\n",
            "Epoch 17/50\n",
            "34/34 [==============================] - 0s 3ms/step - loss: 0.2544 - accuracy: 0.9093 - val_loss: 0.2010 - val_accuracy: 0.9403\n",
            "Epoch 18/50\n",
            "34/34 [==============================] - 0s 3ms/step - loss: 0.2509 - accuracy: 0.9047 - val_loss: 0.2025 - val_accuracy: 0.9254\n",
            "Epoch 19/50\n",
            "34/34 [==============================] - 0s 3ms/step - loss: 0.2480 - accuracy: 0.9093 - val_loss: 0.2034 - val_accuracy: 0.9254\n",
            "Epoch 20/50\n",
            "34/34 [==============================] - 0s 3ms/step - loss: 0.2482 - accuracy: 0.9047 - val_loss: 0.1966 - val_accuracy: 0.9328\n",
            "Epoch 21/50\n",
            "34/34 [==============================] - 0s 3ms/step - loss: 0.2449 - accuracy: 0.9093 - val_loss: 0.1914 - val_accuracy: 0.9403\n",
            "Epoch 22/50\n",
            "34/34 [==============================] - 0s 3ms/step - loss: 0.2415 - accuracy: 0.9047 - val_loss: 0.1985 - val_accuracy: 0.9328\n",
            "Epoch 23/50\n",
            "34/34 [==============================] - 0s 3ms/step - loss: 0.2379 - accuracy: 0.9150 - val_loss: 0.1925 - val_accuracy: 0.9328\n",
            "Epoch 24/50\n",
            "34/34 [==============================] - 0s 4ms/step - loss: 0.2373 - accuracy: 0.9093 - val_loss: 0.1924 - val_accuracy: 0.9403\n",
            "Epoch 25/50\n",
            "34/34 [==============================] - 0s 3ms/step - loss: 0.2348 - accuracy: 0.9112 - val_loss: 0.1917 - val_accuracy: 0.9478\n",
            "Epoch 26/50\n",
            "34/34 [==============================] - 0s 3ms/step - loss: 0.2319 - accuracy: 0.9112 - val_loss: 0.1947 - val_accuracy: 0.9328\n",
            "Epoch 27/50\n",
            "34/34 [==============================] - 0s 3ms/step - loss: 0.2302 - accuracy: 0.9121 - val_loss: 0.1878 - val_accuracy: 0.9403\n",
            "Epoch 28/50\n",
            "34/34 [==============================] - 0s 3ms/step - loss: 0.2292 - accuracy: 0.9112 - val_loss: 0.1837 - val_accuracy: 0.9403\n",
            "Epoch 29/50\n",
            "34/34 [==============================] - 0s 3ms/step - loss: 0.2260 - accuracy: 0.9103 - val_loss: 0.1791 - val_accuracy: 0.9328\n",
            "Epoch 30/50\n",
            "34/34 [==============================] - 0s 4ms/step - loss: 0.2244 - accuracy: 0.9121 - val_loss: 0.1818 - val_accuracy: 0.9328\n",
            "Epoch 31/50\n",
            "34/34 [==============================] - 0s 3ms/step - loss: 0.2234 - accuracy: 0.9150 - val_loss: 0.1798 - val_accuracy: 0.9403\n",
            "Epoch 32/50\n",
            "34/34 [==============================] - 0s 3ms/step - loss: 0.2212 - accuracy: 0.9093 - val_loss: 0.1770 - val_accuracy: 0.9552\n",
            "Epoch 33/50\n",
            "34/34 [==============================] - 0s 3ms/step - loss: 0.2191 - accuracy: 0.9140 - val_loss: 0.1769 - val_accuracy: 0.9478\n",
            "Epoch 34/50\n",
            "34/34 [==============================] - 0s 4ms/step - loss: 0.2191 - accuracy: 0.9093 - val_loss: 0.1796 - val_accuracy: 0.9328\n",
            "Epoch 35/50\n",
            "34/34 [==============================] - 0s 4ms/step - loss: 0.2168 - accuracy: 0.9150 - val_loss: 0.1716 - val_accuracy: 0.9478\n",
            "Epoch 36/50\n",
            "34/34 [==============================] - 0s 4ms/step - loss: 0.2160 - accuracy: 0.9121 - val_loss: 0.1838 - val_accuracy: 0.9403\n",
            "Epoch 37/50\n",
            "34/34 [==============================] - 0s 3ms/step - loss: 0.2120 - accuracy: 0.9121 - val_loss: 0.1718 - val_accuracy: 0.9478\n",
            "Epoch 38/50\n",
            "34/34 [==============================] - 0s 3ms/step - loss: 0.2116 - accuracy: 0.9065 - val_loss: 0.1769 - val_accuracy: 0.9403\n",
            "Epoch 39/50\n",
            "34/34 [==============================] - 0s 3ms/step - loss: 0.2093 - accuracy: 0.9075 - val_loss: 0.1746 - val_accuracy: 0.9403\n",
            "Epoch 40/50\n",
            "34/34 [==============================] - 0s 3ms/step - loss: 0.2092 - accuracy: 0.9131 - val_loss: 0.1779 - val_accuracy: 0.9403\n",
            "Epoch 41/50\n",
            "34/34 [==============================] - 0s 3ms/step - loss: 0.2094 - accuracy: 0.9093 - val_loss: 0.1822 - val_accuracy: 0.9179\n",
            "Epoch 42/50\n",
            "34/34 [==============================] - 0s 3ms/step - loss: 0.2067 - accuracy: 0.9121 - val_loss: 0.1736 - val_accuracy: 0.9403\n",
            "Epoch 43/50\n",
            "34/34 [==============================] - 0s 3ms/step - loss: 0.2045 - accuracy: 0.9084 - val_loss: 0.1678 - val_accuracy: 0.9328\n",
            "Epoch 44/50\n",
            "34/34 [==============================] - 0s 3ms/step - loss: 0.2047 - accuracy: 0.9150 - val_loss: 0.1720 - val_accuracy: 0.9403\n",
            "Epoch 45/50\n",
            "34/34 [==============================] - 0s 3ms/step - loss: 0.2049 - accuracy: 0.9159 - val_loss: 0.1743 - val_accuracy: 0.9179\n",
            "Epoch 46/50\n",
            "34/34 [==============================] - 0s 3ms/step - loss: 0.2008 - accuracy: 0.9150 - val_loss: 0.1790 - val_accuracy: 0.9179\n",
            "Epoch 47/50\n",
            "34/34 [==============================] - 0s 3ms/step - loss: 0.1996 - accuracy: 0.9140 - val_loss: 0.1661 - val_accuracy: 0.9478\n",
            "Epoch 48/50\n",
            "34/34 [==============================] - 0s 3ms/step - loss: 0.1994 - accuracy: 0.9140 - val_loss: 0.1655 - val_accuracy: 0.9478\n",
            "Epoch 49/50\n",
            "34/34 [==============================] - 0s 3ms/step - loss: 0.1973 - accuracy: 0.9121 - val_loss: 0.1724 - val_accuracy: 0.9254\n",
            "Epoch 50/50\n",
            "34/34 [==============================] - 0s 3ms/step - loss: 0.1979 - accuracy: 0.9140 - val_loss: 0.1658 - val_accuracy: 0.9478\n",
            "Best epoch: 32\n"
          ]
        }
      ],
      "source": [
        "# create a model with the new hyperparameters\n",
        "model = tuner.hypermodel.build(best_hps)\n",
        "history = model.fit(x_train, y_train, epochs=50, validation_data=(x_val, y_val))\n",
        "\n",
        "# take the epoch that yields the highest accuracy\n",
        "val_acc_per_epoch = history.history['val_accuracy']\n",
        "best_epoch = val_acc_per_epoch.index(max(val_acc_per_epoch))+1\n",
        "print('Best epoch: %d' % (best_epoch,))"
      ]
    },
    {
      "cell_type": "code",
      "execution_count": null,
      "id": "92407026",
      "metadata": {
        "colab": {
          "base_uri": "https://localhost:8080/"
        },
        "id": "92407026",
        "outputId": "d28598c4-70db-413c-c3c0-13fee7bb5478"
      },
      "outputs": [
        {
          "name": "stdout",
          "output_type": "stream",
          "text": [
            "Epoch 1/32\n",
            "34/34 [==============================] - 1s 7ms/step - loss: 0.6794 - accuracy: 0.5636 - val_loss: 0.6270 - val_accuracy: 0.6567\n",
            "Epoch 2/32\n",
            "34/34 [==============================] - 0s 3ms/step - loss: 0.5907 - accuracy: 0.6813 - val_loss: 0.5634 - val_accuracy: 0.6940\n",
            "Epoch 3/32\n",
            "34/34 [==============================] - 0s 3ms/step - loss: 0.5243 - accuracy: 0.7495 - val_loss: 0.4911 - val_accuracy: 0.7761\n",
            "Epoch 4/32\n",
            "34/34 [==============================] - 0s 3ms/step - loss: 0.4560 - accuracy: 0.8093 - val_loss: 0.4142 - val_accuracy: 0.8731\n",
            "Epoch 5/32\n",
            "34/34 [==============================] - 0s 3ms/step - loss: 0.3967 - accuracy: 0.8607 - val_loss: 0.3514 - val_accuracy: 0.9104\n",
            "Epoch 6/32\n",
            "34/34 [==============================] - 0s 3ms/step - loss: 0.3584 - accuracy: 0.8794 - val_loss: 0.3189 - val_accuracy: 0.9179\n",
            "Epoch 7/32\n",
            "34/34 [==============================] - 0s 3ms/step - loss: 0.3358 - accuracy: 0.8935 - val_loss: 0.2981 - val_accuracy: 0.8955\n",
            "Epoch 8/32\n",
            "34/34 [==============================] - 0s 3ms/step - loss: 0.3223 - accuracy: 0.8963 - val_loss: 0.2857 - val_accuracy: 0.8955\n",
            "Epoch 9/32\n",
            "34/34 [==============================] - 0s 4ms/step - loss: 0.3130 - accuracy: 0.8991 - val_loss: 0.2750 - val_accuracy: 0.8955\n",
            "Epoch 10/32\n",
            "34/34 [==============================] - 0s 4ms/step - loss: 0.3072 - accuracy: 0.8953 - val_loss: 0.2672 - val_accuracy: 0.9030\n",
            "Epoch 11/32\n",
            "34/34 [==============================] - 0s 4ms/step - loss: 0.3011 - accuracy: 0.9019 - val_loss: 0.2622 - val_accuracy: 0.9104\n",
            "Epoch 12/32\n",
            "34/34 [==============================] - 0s 3ms/step - loss: 0.2971 - accuracy: 0.8981 - val_loss: 0.2571 - val_accuracy: 0.9030\n",
            "Epoch 13/32\n",
            "34/34 [==============================] - 0s 4ms/step - loss: 0.2929 - accuracy: 0.9037 - val_loss: 0.2505 - val_accuracy: 0.9104\n",
            "Epoch 14/32\n",
            "34/34 [==============================] - 0s 3ms/step - loss: 0.2887 - accuracy: 0.9009 - val_loss: 0.2454 - val_accuracy: 0.9030\n",
            "Epoch 15/32\n",
            "34/34 [==============================] - 0s 4ms/step - loss: 0.2853 - accuracy: 0.9056 - val_loss: 0.2409 - val_accuracy: 0.9179\n",
            "Epoch 16/32\n",
            "34/34 [==============================] - 0s 3ms/step - loss: 0.2823 - accuracy: 0.9019 - val_loss: 0.2355 - val_accuracy: 0.9179\n",
            "Epoch 17/32\n",
            "34/34 [==============================] - 0s 3ms/step - loss: 0.2771 - accuracy: 0.9065 - val_loss: 0.2299 - val_accuracy: 0.9254\n",
            "Epoch 18/32\n",
            "34/34 [==============================] - 0s 3ms/step - loss: 0.2736 - accuracy: 0.9028 - val_loss: 0.2258 - val_accuracy: 0.9254\n",
            "Epoch 19/32\n",
            "34/34 [==============================] - 0s 3ms/step - loss: 0.2698 - accuracy: 0.9037 - val_loss: 0.2214 - val_accuracy: 0.9254\n",
            "Epoch 20/32\n",
            "34/34 [==============================] - 0s 3ms/step - loss: 0.2661 - accuracy: 0.9065 - val_loss: 0.2159 - val_accuracy: 0.9403\n",
            "Epoch 21/32\n",
            "34/34 [==============================] - 0s 3ms/step - loss: 0.2631 - accuracy: 0.9112 - val_loss: 0.2126 - val_accuracy: 0.9254\n",
            "Epoch 22/32\n",
            "34/34 [==============================] - 0s 3ms/step - loss: 0.2603 - accuracy: 0.9056 - val_loss: 0.2094 - val_accuracy: 0.9254\n",
            "Epoch 23/32\n",
            "34/34 [==============================] - 0s 3ms/step - loss: 0.2573 - accuracy: 0.9019 - val_loss: 0.2085 - val_accuracy: 0.9179\n",
            "Epoch 24/32\n",
            "34/34 [==============================] - 0s 3ms/step - loss: 0.2554 - accuracy: 0.9019 - val_loss: 0.2041 - val_accuracy: 0.9403\n",
            "Epoch 25/32\n",
            "34/34 [==============================] - 0s 3ms/step - loss: 0.2534 - accuracy: 0.9065 - val_loss: 0.2047 - val_accuracy: 0.9179\n",
            "Epoch 26/32\n",
            "34/34 [==============================] - 0s 3ms/step - loss: 0.2506 - accuracy: 0.9028 - val_loss: 0.2006 - val_accuracy: 0.9328\n",
            "Epoch 27/32\n",
            "34/34 [==============================] - 0s 3ms/step - loss: 0.2490 - accuracy: 0.9009 - val_loss: 0.1984 - val_accuracy: 0.9328\n",
            "Epoch 28/32\n",
            "34/34 [==============================] - 0s 3ms/step - loss: 0.2480 - accuracy: 0.9103 - val_loss: 0.1972 - val_accuracy: 0.9104\n",
            "Epoch 29/32\n",
            "34/34 [==============================] - 0s 3ms/step - loss: 0.2460 - accuracy: 0.9028 - val_loss: 0.1927 - val_accuracy: 0.9328\n",
            "Epoch 30/32\n",
            "34/34 [==============================] - 0s 3ms/step - loss: 0.2432 - accuracy: 0.9037 - val_loss: 0.1895 - val_accuracy: 0.9254\n",
            "Epoch 31/32\n",
            "34/34 [==============================] - 0s 3ms/step - loss: 0.2398 - accuracy: 0.9065 - val_loss: 0.1903 - val_accuracy: 0.9254\n",
            "Epoch 32/32\n",
            "34/34 [==============================] - 0s 3ms/step - loss: 0.2395 - accuracy: 0.9037 - val_loss: 0.1845 - val_accuracy: 0.9328\n",
            "Model: \"sequential_2\"\n",
            "_________________________________________________________________\n",
            " Layer (type)                Output Shape              Param #   \n",
            "=================================================================\n",
            " dense_7 (Dense)             (None, 14)                112       \n",
            "                                                                 \n",
            " dense_8 (Dense)             (None, 36)                540       \n",
            "                                                                 \n",
            " dense_9 (Dense)             (None, 2)                 74        \n",
            "                                                                 \n",
            "=================================================================\n",
            "Total params: 726\n",
            "Trainable params: 726\n",
            "Non-trainable params: 0\n",
            "_________________________________________________________________\n"
          ]
        }
      ],
      "source": [
        "# build a new model again using the epoch result that yields the highest accuracy\n",
        "hypermodel = tuner.hypermodel.build(best_hps)\n",
        "\n",
        "# re-train model\n",
        "hypermodel.fit(x_train, y_train, epochs=best_epoch, validation_data = (x_val, y_val))\n",
        "hypermodel.summary()"
      ]
    },
    {
      "cell_type": "markdown",
      "id": "Q1kWAShjD3Xv",
      "metadata": {
        "id": "Q1kWAShjD3Xv"
      },
      "source": [
        "The following is an overview/architecture of the tuned model:"
      ]
    },
    {
      "cell_type": "code",
      "execution_count": null,
      "id": "jdSxHz4nobhb",
      "metadata": {
        "colab": {
          "base_uri": "https://localhost:8080/",
          "height": 474
        },
        "id": "jdSxHz4nobhb",
        "outputId": "1e91e0f9-1de2-4b1f-caff-d8f7e7352962"
      },
      "outputs": [
        {
          "name": "stdout",
          "output_type": "stream",
          "text": [
            "Looking in indexes: https://pypi.org/simple, https://us-python.pkg.dev/colab-wheels/public/simple/\n",
            "Requirement already satisfied: pydot in /usr/local/lib/python3.10/dist-packages (1.4.2)\n",
            "Requirement already satisfied: pyparsing>=2.1.4 in /usr/local/lib/python3.10/dist-packages (from pydot) (3.0.9)\n"
          ]
        },
        {
          "data": {
            "image/png": "[encoded data removed]",
            "text/plain": [
              "<IPython.core.display.Image object>"
            ]
          },
          "execution_count": 30,
          "metadata": {},
          "output_type": "execute_result"
        }
      ],
      "source": [
        "!pip install pydot\n",
        "tf.keras.utils.plot_model(hypermodel, to_file = 'baseline.png', show_shapes = True, show_layer_names = True)"
      ]
    },
    {
      "cell_type": "markdown",
      "id": "1nhIIYs-GIpt",
      "metadata": {
        "id": "1nhIIYs-GIpt"
      },
      "source": [
        "An explanation of the above architecture is below."
      ]
    },
    {
      "cell_type": "code",
      "execution_count": null,
      "id": "57691aa8",
      "metadata": {
        "colab": {
          "base_uri": "https://localhost:8080/"
        },
        "id": "57691aa8",
        "outputId": "210b71d6-7b3a-439a-832e-137e8d7112eb"
      },
      "outputs": [
        {
          "name": "stdout",
          "output_type": "stream",
          "text": [
            "5/5 [==============================] - 0s 3ms/step - loss: 0.2558 - accuracy: 0.9328\n",
            "[test loss, test accuracy]: [0.255817711353302, 0.9328358173370361]\n"
          ]
        }
      ],
      "source": [
        "# Check out the performance of the tuned model\n",
        "eval_result = hypermodel.evaluate(x_test, y_test)\n",
        "print(\"[test loss, test accuracy]:\", eval_result)"
      ]
    },
    {
      "cell_type": "markdown",
      "id": "37ecc88b",
      "metadata": {
        "id": "37ecc88b"
      },
      "source": [
        "Model that use tuning result parameters produce 93% accuracy on data testing. This shows that the tuned model produces higher accuracy than model 1 (`arsitektur_baseline`)."
      ]
    },
    {
      "cell_type": "markdown",
      "id": "8WsguTbcZGA7",
      "metadata": {
        "id": "8WsguTbcZGA7"
      },
      "source": [
        "**Explanation of the tuned model from model 1 (`arsitektur_baseline`):**\n",
        "\n",
        "In modifying the baseline architecture, I use **parameter tuning approach** using **Hyperband** to find the best hyperparameter. Next, I rebuilt the model using the hyperparameter tuning results. I do tuning as an approach method to produce a higher model accuracy than the model 1 (`arsitektur_baseline`) because tuning will help produce the best parameters to produce an optimal model with better performance. Tuning can also help avoid overfitting or underfitting.\n",
        "\n",
        "In the process of searching for the best parameters, I did **tuning on the number of hidden layers, number of nodes in each hidden layer, activation function on the output layer, learning rate and number of iterations/epochs.**\n",
        "\n",
        "**Tuned model have the following architectures:**\n",
        "- **1 input layer with 7 nodes.**\n",
        "- **Hidden layer 1 with 14 nodes**\n",
        "- **Hidden layer 2 with 36 nodes**\n",
        "- **1 Output layer with 2 nodes with activation function softmax**\n",
        "- **Learning rate = 0.08**\n",
        "- **Number of epochs = 32**"
      ]
    },
    {
      "cell_type": "markdown",
      "source": [
        "### **Model Evaluation**"
      ],
      "metadata": {
        "id": "_Klhx0raH1JM"
      },
      "id": "_Klhx0raH1JM"
    },
    {
      "cell_type": "markdown",
      "id": "oWDXneFFZrhb",
      "metadata": {
        "id": "oWDXneFFZrhb"
      },
      "source": [
        "#### Model 1 Evaluation (Model `arsitektur_baseline`)"
      ]
    },
    {
      "cell_type": "code",
      "execution_count": null,
      "id": "b7240c61",
      "metadata": {
        "colab": {
          "base_uri": "https://localhost:8080/"
        },
        "id": "b7240c61",
        "outputId": "2e4556a5-b921-4425-cbb7-e879597e8a78"
      },
      "outputs": [
        {
          "name": "stdout",
          "output_type": "stream",
          "text": [
            "5/5 [==============================] - 0s 3ms/step\n",
            "              precision    recall  f1-score   support\n",
            "\n",
            "           0       0.52      0.56      0.54        54\n",
            "           1       0.68      0.65      0.67        80\n",
            "\n",
            "    accuracy                           0.61       134\n",
            "   macro avg       0.60      0.60      0.60       134\n",
            "weighted avg       0.62      0.61      0.61       134\n",
            "\n"
          ]
        }
      ],
      "source": [
        "# import library to evaluate the model\n",
        "from sklearn.metrics import classification_report\n",
        "\n",
        "# make predictions on data testing using model 1\n",
        "y_predict_baseline = arsitektur_baseline.predict(x_test)\n",
        "\n",
        "# prediction results using the model 1\n",
        "print(classification_report([np.argmax(y) for y in y_test], [np.argmax(y) for y in y_predict_baseline]))"
      ]
    },
    {
      "cell_type": "markdown",
      "source": [
        "The first model (`arsitektur_baseline`) evaluation results are obtained as above:\n",
        "- Accuracy of the `arsitektur_baseline` model is 61%\n",
        "- The precision value (weighted avg) in the `arsitektur_baseline` model is 62%\n",
        "- The recall value (weighted avg) on the `arsitektur_baseline` model is 61%\n",
        "- The f1-score (weighted avg) value on the `arsitektur_baseline` model is 61%"
      ],
      "metadata": {
        "id": "OrCQNkSnMOMs"
      },
      "id": "OrCQNkSnMOMs"
    },
    {
      "cell_type": "markdown",
      "id": "Q_3OyDbQZvvz",
      "metadata": {
        "id": "Q_3OyDbQZvvz"
      },
      "source": [
        "#### Tuned Model Evaluation"
      ]
    },
    {
      "cell_type": "code",
      "execution_count": null,
      "id": "d66c4909",
      "metadata": {
        "colab": {
          "base_uri": "https://localhost:8080/"
        },
        "id": "d66c4909",
        "outputId": "4d149dd2-c457-4878-9e70-304181d4dd1b"
      },
      "outputs": [
        {
          "name": "stdout",
          "output_type": "stream",
          "text": [
            "5/5 [==============================] - 0s 3ms/step\n",
            "              precision    recall  f1-score   support\n",
            "\n",
            "           0       0.87      0.98      0.92        54\n",
            "           1       0.99      0.90      0.94        80\n",
            "\n",
            "    accuracy                           0.93       134\n",
            "   macro avg       0.93      0.94      0.93       134\n",
            "weighted avg       0.94      0.93      0.93       134\n",
            "\n"
          ]
        }
      ],
      "source": [
        "# make predictions on data testing using the tuned model\n",
        "y_predict = hypermodel.predict(x_test)\n",
        "\n",
        "# prediction results using the tuned model\n",
        "print(classification_report([np.argmax(y) for y in y_test], [np.argmax(y) for y in y_predict]))"
      ]
    },
    {
      "cell_type": "markdown",
      "source": [
        "The tuned model (`hypermodel`), the results are obtained as above:\n",
        "- Accuracy on the tuned model (`hypermodel`) is 93%\n",
        "- The precision value (weighted avg) on the `hypermodel` is 94%\n",
        "- The recall value (weighted avg) on the tuned model (`hypermodel`) is 93%\n",
        "- The f1-score value (weighted avg) on the `hypermodel` is 93%"
      ],
      "metadata": {
        "id": "jNwr1wg6MX57"
      },
      "id": "jNwr1wg6MX57"
    },
    {
      "cell_type": "markdown",
      "id": "2e1b1495",
      "metadata": {
        "id": "2e1b1495"
      },
      "source": [
        "**Explanation:**\n",
        "\n",
        "In this insurance data, the distribution of classes in the `insuranceclaim` variable (target variable) is not balanced, so we cannot assess the model's performance using its accuracy value alone. In this case, one of the measuring tools that we can use to judge whether a model is good or not is the value of the f1-score and precision. This is because it is better to predict someone not claiming insurance even though he originally claimed insurance. Otherwise, it can cause losses to the company.\n",
        "\n",
        "The precision value is the ratio of positive correct predictions compared to the overall positive predicted results. The recall value is the ratio of correctly positive predictions compared to all of the correctly positive data. And the f1-score is the harmonic average of precision and recall.\n",
        "\n",
        "Of the two models above, **the better or best model (best model) is the model that has been tuned** because it has higher precision and f1-score values than the model 1. Apart from that, the accuracy and recall values of the tuned model are also higher compared to the model 1. The model that has been tuned is a model that has 1 input layer with 7 nodes, 2 hidden layers with the number of nodes in each hidden layer being 14 and 36, and 1 output layer with 2 nodes, learning rate of 0.08, using softmax as an activation function in the output layer, and the number of epochs is 32."
      ]
    }
  ],
  "metadata": {
    "colab": {
      "provenance": []
    },
    "kernelspec": {
      "display_name": "Python 3",
      "language": "python",
      "name": "python3"
    },
    "language_info": {
      "codemirror_mode": {
        "name": "ipython",
        "version": 3
      },
      "file_extension": ".py",
      "mimetype": "text/x-python",
      "name": "python",
      "nbconvert_exporter": "python",
      "pygments_lexer": "ipython3",
      "version": "3.8.8"
    }
  },
  "nbformat": 4,
  "nbformat_minor": 5
}